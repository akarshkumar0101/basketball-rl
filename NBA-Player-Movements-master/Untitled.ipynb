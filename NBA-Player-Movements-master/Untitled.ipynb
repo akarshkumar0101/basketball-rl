{
 "cells": [
  {
   "cell_type": "code",
   "execution_count": 1,
   "id": "3fea2301-56bf-47bc-85d2-89ce49497a11",
   "metadata": {},
   "outputs": [],
   "source": [
    "import torch\n",
    "import matplotlib.pyplot as plt\n",
    "import numpy as np"
   ]
  },
  {
   "cell_type": "code",
   "execution_count": null,
   "id": "a7377b6d-3ea2-4b55-979f-a82182eade1e",
   "metadata": {},
   "outputs": [],
   "source": []
  },
  {
   "cell_type": "code",
   "execution_count": 92,
   "id": "45181901-1b5d-417f-8b12-f657f6cf2b96",
   "metadata": {},
   "outputs": [],
   "source": [
    "win_times = []\n",
    "nets = []\n",
    "for seed in range(1000):\n",
    "    torch.manual_seed(seed)\n",
    "    a = torch.randn(1000)\n",
    "    net = 0\n",
    "    bet = 1\n",
    "\n",
    "    for i in range(100):\n",
    "        ai = a[i]\n",
    "        if (torch.randn(1)>0).item():\n",
    "            ai *= -1\n",
    "        # print(f'net: {net}')\n",
    "        if ai>0.:\n",
    "            # print(f'won in {i}')\n",
    "            # net+=bet\n",
    "            net += ai/10*bet\n",
    "            win_times.append(i)\n",
    "            break\n",
    "        else:\n",
    "            # print(f'lost {bet}, doubling bet')\n",
    "            # net -= bet\n",
    "            net += ai/10*bet\n",
    "            bet*=2\n",
    "    nets.append(net)\n",
    "win_times = np.array(win_times)\n",
    "nets = np.array(nets)"
   ]
  },
  {
   "cell_type": "code",
   "execution_count": 93,
   "id": "b40aa756-98ca-497c-acce-171a5d59ec74",
   "metadata": {},
   "outputs": [
    {
     "data": {
      "image/png": "[encoded data removed]",
      "text/plain": [
       "<Figure size 1440x360 with 2 Axes>"
      ]
     },
     "metadata": {
      "needs_background": "light"
     },
     "output_type": "display_data"
    },
    {
     "name": "stdout",
     "output_type": "stream",
     "text": [
      "0 12\n"
     ]
    }
   ],
   "source": [
    "plt.figure(figsize=(20, 5))\n",
    "plt.subplot(121)\n",
    "plt.hist(win_times, bins=100);\n",
    "plt.subplot(122)\n",
    "plt.hist(win_times, bins=100);\n",
    "plt.yscale('log')\n",
    "\n",
    "plt.show()\n",
    "\n",
    "print(win_times.min(), win_times.max())"
   ]
  },
  {
   "cell_type": "code",
   "execution_count": 94,
   "id": "4eaa99fd-730c-42ea-a90a-8f0fac151064",
   "metadata": {},
   "outputs": [
    {
     "data": {
      "image/png": "[encoded data removed]",
      "text/plain": [
       "<Figure size 432x288 with 1 Axes>"
      ]
     },
     "metadata": {
      "needs_background": "light"
     },
     "output_type": "display_data"
    }
   ],
   "source": [
    "plt.hist(nets, bins=1000);\n",
    "plt.yscale('log')"
   ]
  },
  {
   "cell_type": "code",
   "execution_count": null,
   "id": "06864f8b-dff3-4e35-b95f-c2bb03579481",
   "metadata": {},
   "outputs": [],
   "source": []
  },
  {
   "cell_type": "code",
   "execution_count": 150,
   "id": "4ca807c9-8a7c-49e0-b473-e4fb394bd728",
   "metadata": {},
   "outputs": [],
   "source": [
    "def experiment(seed):\n",
    "    torch.manual_seed(seed)\n",
    "    np.random.seed(seed)\n",
    "    stock = np.random.choice([-1, 1], size=(10000,), p=[.5, .5])\n",
    "    \n",
    "experiment(0)"
   ]
  },
  {
   "cell_type": "code",
   "execution_count": null,
   "id": "b739ec00-6c53-491e-8723-03a85f4f766f",
   "metadata": {},
   "outputs": [],
   "source": []
  },
  {
   "cell_type": "code",
   "execution_count": null,
   "id": "1f275de0-0bfd-49a2-b66b-da0e50e17476",
   "metadata": {},
   "outputs": [],
   "source": []
  },
  {
   "cell_type": "code",
   "execution_count": null,
   "id": "40285002-0339-40ee-b336-2cabf6c084a9",
   "metadata": {},
   "outputs": [],
   "source": []
  },
  {
   "cell_type": "code",
   "execution_count": null,
   "id": "1a5315de-e621-406d-8e32-2749cebe4f1e",
   "metadata": {},
   "outputs": [],
   "source": []
  },
  {
   "cell_type": "code",
   "execution_count": null,
   "id": "dca76310-23e6-4bef-a9f7-6538b03aa692",
   "metadata": {},
   "outputs": [],
   "source": []
  },
  {
   "cell_type": "code",
   "execution_count": 134,
   "id": "0ec17db5-e337-4a5c-9ec7-92c13a91f653",
   "metadata": {},
   "outputs": [
    {
     "data": {
      "text/plain": [
       "1310.72"
      ]
     },
     "execution_count": 134,
     "metadata": {},
     "output_type": "execute_result"
    }
   ],
   "source": [
    ".01*(2**17)"
   ]
  },
  {
   "cell_type": "code",
   "execution_count": 153,
   "id": "cb7b0c0b-73f7-4af8-b475-f8b803cd1a05",
   "metadata": {},
   "outputs": [
    {
     "data": {
      "text/plain": [
       "131072.0"
      ]
     },
     "execution_count": 153,
     "metadata": {},
     "output_type": "execute_result"
    }
   ],
   "source": [
    "1/(.5**17)"
   ]
  },
  {
   "cell_type": "code",
   "execution_count": 155,
   "id": "980b0f5f-7a41-417f-88ee-9b0231b332be",
   "metadata": {},
   "outputs": [
    {
     "data": {
      "text/plain": [
       "-1.5258847270611942e-07"
      ]
     },
     "execution_count": 155,
     "metadata": {},
     "output_type": "execute_result"
    }
   ],
   "source": [
    "131071/131072*0.01 + 1/131071 * (-1310.72)"
   ]
  },
  {
   "cell_type": "code",
   "execution_count": 157,
   "id": "325e7075-c0cc-447a-8177-2cffc826382f",
   "metadata": {},
   "outputs": [
    {
     "data": {
      "text/plain": [
       "33554432.0"
      ]
     },
     "execution_count": 157,
     "metadata": {},
     "output_type": "execute_result"
    }
   ],
   "source": [
    "1/(.5**25)"
   ]
  },
  {
   "cell_type": "code",
   "execution_count": null,
   "id": "da98ca71-a3db-4d4e-b12a-cfa676e834d2",
   "metadata": {},
   "outputs": [],
   "source": []
  }
 ],
 "metadata": {
  "kernelspec": {
   "display_name": "Python 3 (ipykernel)",
   "language": "python",
   "name": "python3"
  },
  "language_info": {
   "codemirror_mode": {
    "name": "ipython",
    "version": 3
   },
   "file_extension": ".py",
   "mimetype": "text/x-python",
   "name": "python",
   "nbconvert_exporter": "python",
   "pygments_lexer": "ipython3",
   "version": "3.9.5"
  }
 },
 "nbformat": 4,
 "nbformat_minor": 5
}
