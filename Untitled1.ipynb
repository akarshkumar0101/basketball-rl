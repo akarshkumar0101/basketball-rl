{
 "cells": [
  {
   "cell_type": "code",
   "execution_count": 1,
   "id": "3aead054",
   "metadata": {},
   "outputs": [],
   "source": [
    "%load_ext autoreload\n",
    "%autoreload 2"
   ]
  },
  {
   "cell_type": "code",
   "execution_count": 2,
   "id": "e6e1f7e9",
   "metadata": {},
   "outputs": [],
   "source": [
    "import env_basketball"
   ]
  },
  {
   "cell_type": "code",
   "execution_count": 9,
   "id": "e6662c0f",
   "metadata": {},
   "outputs": [
    {
     "data": {
      "text/plain": [
       "{'fps': 10,\n",
       " 'duration': 5,\n",
       " 'n_offensive_players': 5,\n",
       " 'n_densive_players': 5,\n",
       " 'pos_hoop': [0, 0.85],\n",
       " 'distance_three_point_line': 0.83,\n",
       " 'init_player_position': 'random',\n",
       " 'speed_player': 0.5,\n",
       " 'speed_ball': 1.0,\n",
       " 'radius_player': 0.03,\n",
       " 'radius_ball': 0.015,\n",
       " 'radius_hoop': 0.04}"
      ]
     },
     "execution_count": 9,
     "metadata": {},
     "output_type": "execute_result"
    }
   ],
   "source": [
    "env = env_basketball.BasketballEnv()\n",
    "env.config"
   ]
  },
  {
   "cell_type": "code",
   "execution_count": 2,
   "id": "ranking-corrections",
   "metadata": {},
   "outputs": [],
   "source": [
    "import numpy as np\n",
    "import matplotlib.pyplot as plt"
   ]
  },
  {
   "cell_type": "code",
   "execution_count": null,
   "id": "needed-porcelain",
   "metadata": {},
   "outputs": [],
   "source": []
  },
  {
   "cell_type": "code",
   "execution_count": null,
   "id": "partial-colors",
   "metadata": {},
   "outputs": [],
   "source": []
  },
  {
   "cell_type": "code",
   "execution_count": 13,
   "id": "attractive-viewer",
   "metadata": {},
   "outputs": [],
   "source": [
    "import numpy as np\n",
    "import matplotlib.pyplot as plt"
   ]
  },
  {
   "cell_type": "code",
   "execution_count": 15,
   "id": "potential-exclusion",
   "metadata": {},
   "outputs": [
    {
     "data": {
      "image/png": "[encoded data removed]",
      "text/plain": [
       "<Figure size 432x288 with 2 Axes>"
      ]
     },
     "metadata": {
      "needs_background": "light"
     },
     "output_type": "display_data"
    }
   ],
   "source": [
    "def layup_contest(height_diff, weight_diff):\n",
    "    return height_diff\n",
    "    \n",
    "height_diff = np.linspace(-10, 10, 100)\n",
    "weight_diff = np.linspace(.5, 1.5, 100)\n",
    "height_diff_mg, weight_diff_mg = np.meshgrid(height_diff, weight_diff, indexing='ij')\n",
    "\n",
    "contest = layup_contest(height_diff_mg, weight_diff_mg)\n",
    "\n",
    "plt.pcolormesh(height_diff, weight_diff, contest)\n",
    "# plt.xlabel(height_diff[::20])\n",
    "plt.colorbar()\n",
    "plt.show()"
   ]
  },
  {
   "cell_type": "code",
   "execution_count": null,
   "id": "scenic-yukon",
   "metadata": {},
   "outputs": [],
   "source": []
  },
  {
   "cell_type": "code",
   "execution_count": null,
   "id": "entertaining-diesel",
   "metadata": {},
   "outputs": [],
   "source": []
  }
 ],
 "metadata": {
  "kernelspec": {
   "display_name": "Python 3 (ipykernel)",
   "language": "python",
   "name": "python3"
  },
  "language_info": {
   "codemirror_mode": {
    "name": "ipython",
    "version": 3
   },
   "file_extension": ".py",
   "mimetype": "text/x-python",
   "name": "python",
   "nbconvert_exporter": "python",
   "pygments_lexer": "ipython3",
   "version": "3.9.5"
  }
 },
 "nbformat": 4,
 "nbformat_minor": 5
}
