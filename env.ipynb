{
 "cells": [
  {
   "cell_type": "code",
   "execution_count": 84,
   "id": "862b9028-b3bb-4878-8a1e-0585a2e4b2e5",
   "metadata": {},
   "outputs": [],
   "source": [
    "import gym\n",
    "import pymunk\n",
    "import pymunk.pyglet_util\n",
    "import pymunk.matplotlib_util\n",
    "\n",
    "\n",
    "import numpy as np\n",
    "import matplotlib.pyplot as plt\n",
    "\n",
    "import torch"
   ]
  },
  {
   "cell_type": "code",
   "execution_count": null,
   "id": "53d877b0-1ea3-46c0-b151-70a9ee73ecda",
   "metadata": {},
   "outputs": [],
   "source": []
  },
  {
   "cell_type": "code",
   "execution_count": 332,
   "id": "8d7787e2-cba2-4d5f-98e6-2e12a084929a",
   "metadata": {},
   "outputs": [],
   "source": [
    "class PlayerStat:\n",
    "    def __init__(self):\n",
    "        pass\n",
    "    \n",
    "class BasketballEnv(gym.Env):\n",
    "    def __init__(self):\n",
    "        self.space = pymunk.Space()\n",
    "        self.boundary = 1.1 # simulation boundary\n",
    "        self.oob = 1. # out of bounds\n",
    "        \n",
    "        wall = pymunk.Body(0, 0, pymunk.Body.STATIC)\n",
    "        bthick = .2\n",
    "        b = self.boundary+bthick\n",
    "        walls = [\n",
    "            pymunk.Segment(wall, (-b, -b), (-b, b), bthick),\n",
    "            pymunk.Segment(wall, (-b, b), (b, b), bthick),\n",
    "            pymunk.Segment(wall, (b, b), (b, -b), bthick),\n",
    "            pymunk.Segment(wall, (b, -b), (-b, -b), bthick),\n",
    "        ]\n",
    "        self.space.add(wall, *walls)\n",
    "        \n",
    "        \n",
    "        self.shot_clock = 0.\n",
    "        self.shot_clock_max = 24.\n",
    "        \n",
    "        self.done = False\n",
    "        \n",
    "        self.fps = 4.2\n",
    "        \n",
    "        def add_body_to_space(mass, radius, xy):\n",
    "            moment = pymunk.moment_for_circle(mass, 0, radius, (0, 0))\n",
    "            body = pymunk.Body(mass, moment)\n",
    "            body.position = xy\n",
    "            body.start_position = pymunk.Vec2d(*body.position)\n",
    "            shape = pymunk.Circle(body, radius)\n",
    "            shape.elasticity = 0.9999999\n",
    "            self.space.add(body, shape)\n",
    "            return body\n",
    "        \n",
    "        self.stat2body_offense = {}\n",
    "        self.stat2body_defense = {}\n",
    "        \n",
    "        for i in range(5):\n",
    "            xy = tuple(np.random.uniform(-1, 1, size=2))\n",
    "            stat = PlayerStat()\n",
    "            self.stat2body_offense[stat] = add_body_to_space(1.0, 0.03, xy)\n",
    "        for i in range(5):\n",
    "            xy = tuple(np.random.uniform(-1, 1, size=2))\n",
    "            stat = PlayerStat()\n",
    "            self.stat2body_defense[stat] = add_body_to_space(1.0, 0.03, xy)\n",
    "            \n",
    "        xy = tuple(np.random.uniform(-1, 1, size=2))\n",
    "        self.body_ball = add_body_to_space(1.0, 0.02, xy)\n",
    "        \n",
    "        \n",
    "        self.action_space = gym.spaces.Discrete(5)\n",
    "        self.observation_space = gym.spaces.Discrete(2)\n",
    "            \n",
    "    def step(self, action):\n",
    "        dt = 1./self.fps\n",
    "        \n",
    "        self.space.step(dt)\n",
    "        self.shot_clock += dt\n",
    "        \n",
    "        \n",
    "        if self.shot_clock >= self.shot_clock_max:\n",
    "            self.done = True\n",
    "        \n",
    "        reward = 0.\n",
    "        info = None\n",
    "        \n",
    "        if False and shooting:\n",
    "            self.done = True\n",
    "            reward = 1.\n",
    "        \n",
    "        \n",
    "        return State(self), reward, self.done, info\n",
    "        # return obs, reward, done, info\n",
    "    \n",
    "    def reset(self):\n",
    "        return State(self)\n",
    "    \n",
    "    \n",
    "class State:\n",
    "    def __init__(self, env):\n",
    "        self.shot_clock = env.shot_clock\n",
    "        \n",
    "        self.locs_offense = np.array([[b.position.x, b.position.y] for b in env.stat2body_offense.values()])\n",
    "        self.locs_defense = np.array([[b.position.x, b.position.y] for b in env.stat2body_defense.values()])\n",
    "        self.loc_ball = np.array([env.body_ball.position.x, env.body_ball.position.y])\n",
    "\n",
    "class Action:\n",
    "    def __init__(self):\n",
    "        pass\n",
    "        \n",
    "env = BasketballEnv()\n",
    "        \n",
    "        "
   ]
  },
  {
   "cell_type": "code",
   "execution_count": null,
   "id": "53fe159c-ffd4-4b12-876e-28fc10285385",
   "metadata": {},
   "outputs": [],
   "source": []
  },
  {
   "cell_type": "code",
   "execution_count": null,
   "id": "3f449f66-330d-40cf-a0da-8e86e23ff0cc",
   "metadata": {},
   "outputs": [],
   "source": []
  },
  {
   "cell_type": "code",
   "execution_count": null,
   "id": "cb528592-70ae-4ff9-8354-83fe36eb42d3",
   "metadata": {},
   "outputs": [],
   "source": []
  },
  {
   "cell_type": "code",
   "execution_count": null,
   "id": "bd9f8547-e7f9-429f-8a14-2a7f0cbfd374",
   "metadata": {},
   "outputs": [],
   "source": []
  },
  {
   "cell_type": "code",
   "execution_count": 333,
   "id": "22276cc9-54e5-4fb6-a658-97123a319e95",
   "metadata": {},
   "outputs": [],
   "source": [
    "\n",
    "env = BasketballEnv()\n",
    "\n",
    "state = env.reset()\n",
    "\n",
    "for b in env.stat2body_offense.values():\n",
    "    b.velocity = tuple(np.random.randn(2)*0.1)\n",
    "for b in env.stat2body_defense.values():\n",
    "    b.velocity = tuple(np.random.randn(2)*0.1)\n",
    "\n",
    "states = []\n",
    "for t in range(100):\n",
    "    action = env.action_space.sample()\n",
    "    state, reward, done, info = env.step(None)\n",
    "    states.append(state)\n",
    "\n"
   ]
  },
  {
   "cell_type": "code",
   "execution_count": null,
   "id": "75bd8d35-ee11-4b62-b825-620d3fd4df68",
   "metadata": {},
   "outputs": [],
   "source": []
  },
  {
   "cell_type": "code",
   "execution_count": null,
   "id": "6fa000d9-3c44-457f-88f7-24bc789bf9f1",
   "metadata": {},
   "outputs": [],
   "source": []
  },
  {
   "cell_type": "code",
   "execution_count": null,
   "id": "a5925e21-bd2d-457e-8a94-ca2ba642115d",
   "metadata": {},
   "outputs": [],
   "source": []
  },
  {
   "cell_type": "code",
   "execution_count": 351,
   "id": "a82f6aae-c527-40a1-a89e-6fe1a15a2a52",
   "metadata": {},
   "outputs": [
    {
     "data": {
      "image/png": "[encoded data removed]",
      "text/plain": [
       "<Figure size 576x576 with 1 Axes>"
      ]
     },
     "metadata": {
      "needs_background": "light"
     },
     "output_type": "display_data"
    }
   ],
   "source": [
    "def show_game_state(state, ax=None):\n",
    "    if ax is None:\n",
    "        fig, ax = plt.subplots(figsize=(8, 8))\n",
    "    # (or if you have an existing figure)\n",
    "#     fig = plt.gcf()\n",
    "#     ax = fig.gca()\n",
    "    ax.set_aspect('equal')\n",
    "    \n",
    "    ax.set_xlim(-env.boundary, env.boundary)\n",
    "    ax.set_ylim(-env.boundary, env.boundary)\n",
    "    ax.axhline(env.oob, c='gray'); ax.axvline(env.oob, c='gray')\n",
    "    ax.axhline(-env.oob, c='gray'); ax.axvline(-env.oob, c='gray', label='out of bounds')\n",
    "    \n",
    "    for x, y in state.locs_offense:\n",
    "        circle = plt.Circle((x, y), radius=constant.radius_player, color='g')\n",
    "        ax.add_artist(circle)\n",
    "    for x, y in state.locs_defense:\n",
    "        circle = plt.Circle((x, y), radius=constant.radius_player, color='r')\n",
    "        ax.add_artist(circle)\n",
    "    for x, y in [state.loc_ball]:\n",
    "        circle = plt.Circle((x, y), radius=constant.radius_ball, color='orange')\n",
    "        ax.add_artist(circle)\n",
    "    \n",
    "    ax.add_artist(plt.Circle(constant.pos_hoop.numpy(), radius=constant.radius_hoop, color='orange', fill=False))\n",
    "    ax.add_artist(plt.Circle(constant.pos_hoop.numpy(), radius=constant.radius_three_point_line, color='k', fill=False))\n",
    "    \n",
    "    ax.set_title('Game State')\n",
    "    ax.set_xlabel('X-axis'); ax.set_ylabel('Y-axis')\n",
    "    \n",
    "    ax.barh(y=-1.03, width=2*state.shot_clock/env.shot_clock_max, left=-1., height=0.05, color='purple')\n",
    "    # plt.grid()\n",
    "    \n",
    "    # plt.legend()\n",
    "    \n",
    "    return ax\n",
    "\n",
    "import celluloid\n",
    "from IPython.display import HTML # to show the animation in Jupyter\n",
    "\n",
    "def animate_game_states(states, fig=None, ax=None):\n",
    "    if fig is None or ax is None:\n",
    "        fig, ax = plt.subplots(figsize=(8, 8))\n",
    "    camera = celluloid.Camera(fig)# the camera gets the fig we'll plot\n",
    "    for state in states:\n",
    "        show_game_state(state, ax)\n",
    "        camera.snap() # the camera takes a snapshot of the plot\n",
    "    animation = camera.animate() # animation ready\n",
    "    plt.close()\n",
    "    vid = HTML(animation.to_html5_video()) # displaying the animation\n",
    "    return vid\n",
    "\n",
    "ax = show_game_state(state)\n",
    "# vid = animate_game_states(states)\n",
    "vid"
   ]
  },
  {
   "cell_type": "code",
   "execution_count": null,
   "id": "72f51533-37e4-409e-8611-7c96d33d79d6",
   "metadata": {},
   "outputs": [],
   "source": []
  },
  {
   "cell_type": "code",
   "execution_count": null,
   "id": "de047302-1658-47ba-aff8-7f1e174e67da",
   "metadata": {},
   "outputs": [],
   "source": []
  },
  {
   "cell_type": "code",
   "execution_count": null,
   "id": "abb1e7e0-b14d-4baa-91f9-884676a95c3c",
   "metadata": {},
   "outputs": [],
   "source": []
  },
  {
   "cell_type": "code",
   "execution_count": null,
   "id": "f1bf37c9-605a-46f1-9a9a-1ffd4d7fc3f4",
   "metadata": {},
   "outputs": [],
   "source": []
  },
  {
   "cell_type": "code",
   "execution_count": null,
   "id": "54503ec5-46af-459b-a43e-f1c7ab0214b7",
   "metadata": {},
   "outputs": [],
   "source": []
  },
  {
   "cell_type": "code",
   "execution_count": null,
   "id": "ca21c2c2-c11e-4cdb-bed1-931df795d083",
   "metadata": {},
   "outputs": [],
   "source": []
  },
  {
   "cell_type": "code",
   "execution_count": 277,
   "id": "6504d26b-c2f3-4875-b1e4-2b239ae17b27",
   "metadata": {},
   "outputs": [
    {
     "data": {
      "image/png": "[encoded data removed]",
      "text/plain": [
       "<Figure size 720x720 with 1 Axes>"
      ]
     },
     "metadata": {
      "needs_background": "light"
     },
     "output_type": "display_data"
    }
   ],
   "source": [
    "\n",
    "options = pymunk.pyglet_util.DrawOptions()\n",
    "options = pymunk.SpaceDebugDrawOptions()\n",
    "\n",
    "fig = plt.figure(figsize=(10, 10))\n",
    "ax = plt.subplot()\n",
    "ax.set_aspect('equal')\n",
    "options = pymunk.matplotlib_util.DrawOptions(ax)\n",
    "env.space.debug_draw(options)\n",
    "\n",
    "plt.xlim(-1.3, 1.3); plt.ylim(-1.3, 1.3)\n",
    "# plt.xlim(-2, 2,); plt.ylim(-2, 2,);\n",
    "\n",
    "plt.show()\n",
    "\n",
    "# If we haven't already shown or saved the plot, then we need to\n",
    "# draw the figure first...\n",
    "# fig.canvas.draw()\n",
    "\n",
    "# Now we can save it to a numpy array.\n",
    "# data = np.frombuffer(fig.canvas.tostring_rgb(), dtype=np.uint8)\n",
    "# data = data.reshape(fig.canvas.get_width_height()[::-1] + (3,))"
   ]
  },
  {
   "cell_type": "code",
   "execution_count": null,
   "id": "7d49a018-e282-45bb-8d58-fee4a7a28f4a",
   "metadata": {},
   "outputs": [],
   "source": []
  },
  {
   "cell_type": "code",
   "execution_count": null,
   "id": "83afce56-3f6d-4163-ad1c-a059739c02aa",
   "metadata": {},
   "outputs": [],
   "source": []
  },
  {
   "cell_type": "code",
   "execution_count": null,
   "id": "062e90c2-63ee-4eae-9c81-f8fe1bcb33a4",
   "metadata": {},
   "outputs": [],
   "source": []
  },
  {
   "cell_type": "code",
   "execution_count": null,
   "id": "633ec225-6c2c-43e0-bec4-af8bf7a2f363",
   "metadata": {},
   "outputs": [],
   "source": []
  },
  {
   "cell_type": "code",
   "execution_count": null,
   "id": "beae2939-6874-445a-8a45-599dfaf56edb",
   "metadata": {},
   "outputs": [],
   "source": []
  },
  {
   "cell_type": "code",
   "execution_count": null,
   "id": "825cd38c-abe2-435b-a710-0df927f6bd7c",
   "metadata": {},
   "outputs": [],
   "source": []
  },
  {
   "cell_type": "code",
   "execution_count": null,
   "id": "59bc5964-909c-4cce-ab8b-97164a409921",
   "metadata": {},
   "outputs": [],
   "source": []
  },
  {
   "cell_type": "code",
   "execution_count": 82,
   "id": "b1caec5d-e824-485a-a3b0-12a4e7f8f483",
   "metadata": {},
   "outputs": [],
   "source": [
    "import visual\n",
    "import constant"
   ]
  },
  {
   "cell_type": "code",
   "execution_count": 218,
   "id": "f79b292e-ff26-4155-ab2f-9b0c2f91e3d2",
   "metadata": {},
   "outputs": [
    {
     "data": {
      "text/plain": [
       "<AxesSubplot:title={'center':'Game State'}, xlabel='X-axis', ylabel='Y-axis'>"
      ]
     },
     "execution_count": 218,
     "metadata": {},
     "output_type": "execute_result"
    },
    {
     "data": {
      "image/png": "[encoded data removed]",
      "text/plain": [
       "<Figure size 576x576 with 1 Axes>"
      ]
     },
     "metadata": {
      "needs_background": "light"
     },
     "output_type": "display_data"
    }
   ],
   "source": [
    "def show_game_state(game_state, ax=None):\n",
    "    if ax is None:\n",
    "        fig, ax = plt.subplots(figsize=(8, 8)) # note we must use plt.subplots, not plt.subplot\n",
    "    # (or if you have an existing figure)\n",
    "#     fig = plt.gcf()\n",
    "#     ax = fig.gca()\n",
    "    \n",
    "    ax.set_xlim(-1,1)\n",
    "    ax.set_ylim(-1,1)\n",
    "    \n",
    "    for idx_op in constant.idxs_op.numpy():\n",
    "        x, y = game_state[idx_op]\n",
    "        circle = plt.Circle((x, y), radius=constant.radius_player, color='g')\n",
    "        ax.add_artist(circle)\n",
    "    for idx_dp in constant.idxs_dp.numpy():\n",
    "        x, y = game_state[idx_dp]\n",
    "        circle = plt.Circle((x, y), radius=constant.radius_player, color='r')\n",
    "        ax.add_artist(circle)\n",
    "    for idx_ball in constant.idxs_ball.numpy():\n",
    "        x, y = game_state[idx_ball]\n",
    "        circle = plt.Circle((x, y), radius=constant.radius_ball, color='orange')\n",
    "        ax.add_artist(circle)\n",
    "    \n",
    "    ax.add_artist(plt.Circle(constant.pos_hoop.numpy(), radius=constant.radius_hoop, color='orange', fill=False))\n",
    "    ax.add_artist(plt.Circle(constant.pos_hoop.numpy(), radius=constant.radius_three_point_line, color='k', fill=False))\n",
    "    \n",
    "    ax.set_title('Game State')\n",
    "    ax.set_xlabel('X-axis')\n",
    "    ax.set_ylabel('Y-axis')\n",
    "    \n",
    "    return ax\n",
    "\n",
    "\n",
    "torch.manual_seed(0)\n",
    "show_game_state(torch.randn(11, 2)*.4)"
   ]
  },
  {
   "cell_type": "code",
   "execution_count": null,
   "id": "1db686e6-a60d-4d6e-8628-a47d2fbb30b7",
   "metadata": {},
   "outputs": [],
   "source": []
  },
  {
   "cell_type": "code",
   "execution_count": null,
   "id": "34b2d098-6d76-4f8c-bb38-1b418e235b91",
   "metadata": {},
   "outputs": [],
   "source": []
  },
  {
   "cell_type": "code",
   "execution_count": null,
   "id": "6afdd86c-12dc-46e7-9ad1-2c51d0571962",
   "metadata": {},
   "outputs": [],
   "source": []
  },
  {
   "cell_type": "code",
   "execution_count": 209,
   "id": "5ef6e865-f146-43a3-a369-5b98da83598e",
   "metadata": {},
   "outputs": [
    {
     "data": {
      "text/plain": [
       "<AxesSubplot:title={'center':'Game State'}, xlabel='X-axis', ylabel='Y-axis'>"
      ]
     },
     "execution_count": 209,
     "metadata": {},
     "output_type": "execute_result"
    },
    {
     "data": {
      "image/png": "[encoded data removed]",
      "text/plain": [
       "<Figure size 576x576 with 1 Axes>"
      ]
     },
     "metadata": {
      "needs_background": "light"
     },
     "output_type": "display_data"
    }
   ],
   "source": [
    "visual.show_game_state(torch.randn(11, 2))"
   ]
  },
  {
   "cell_type": "code",
   "execution_count": null,
   "id": "1aa87df9-9fe9-4994-9345-9c211f88ad06",
   "metadata": {},
   "outputs": [],
   "source": []
  },
  {
   "cell_type": "code",
   "execution_count": null,
   "id": "1fb162ab-33d2-40c4-ab03-69afed60ff54",
   "metadata": {},
   "outputs": [],
   "source": []
  },
  {
   "cell_type": "code",
   "execution_count": null,
   "id": "17782288-c3ae-4f5f-aac9-134836f260b2",
   "metadata": {},
   "outputs": [],
   "source": []
  },
  {
   "cell_type": "code",
   "execution_count": null,
   "id": "6ebd0462-a610-4d03-84e3-7d35e8bd3976",
   "metadata": {},
   "outputs": [],
   "source": []
  },
  {
   "cell_type": "markdown",
   "id": "06ed799e-3e67-466c-8899-8cf4e2dc84fb",
   "metadata": {},
   "source": [
    "# GIFs in JupyterLab"
   ]
  },
  {
   "cell_type": "code",
   "execution_count": 282,
   "id": "170cd35a-074e-4096-9b88-293444a4a481",
   "metadata": {},
   "outputs": [
    {
     "data": {
      "image/png": "[encoded data removed]",
      "text/plain": [
       "<Figure size 864x360 with 2 Axes>"
      ]
     },
     "metadata": {
      "needs_background": "light"
     },
     "output_type": "display_data"
    }
   ],
   "source": [
    "%matplotlib inline\n",
    "\n",
    "import numpy as np\n",
    "import matplotlib.pyplot as plt\n",
    "import seaborn as sns\n",
    "\n",
    "# create a figure and axes\n",
    "fig = plt.figure(figsize=(12,5))\n",
    "ax1 = plt.subplot(1,2,1)   \n",
    "ax2 = plt.subplot(1,2,2)\n",
    "\n",
    "# set up the subplots as needed\n",
    "ax1.set_xlim(( 0, 2))            \n",
    "ax1.set_ylim((-2, 2))\n",
    "ax1.set_xlabel('Time')\n",
    "ax1.set_ylabel('Magnitude')\n",
    "\n",
    "ax2.set_xlim((-2,2))\n",
    "ax2.set_ylim((-2,2))\n",
    "ax2.set_xlabel('X')\n",
    "ax2.set_ylabel('Y')\n",
    "ax2.set_title('Phase Plane')\n",
    "\n",
    "# create objects that will change in the animation. These are\n",
    "# initially empty, and will be given new values for each frame\n",
    "# in the animation.\n",
    "txt_title = ax1.set_title('')\n",
    "line1, = ax1.plot([], [], 'b', lw=2)     # ax.plot returns a list of 2D line objects\n",
    "line2, = ax1.plot([], [], 'r', lw=2)\n",
    "pt1, = ax2.plot([], [], 'g.', ms=20)\n",
    "line3, = ax2.plot([], [], 'y', lw=2)\n",
    "\n",
    "ax1.legend(['sin','cos']);\n"
   ]
  },
  {
   "cell_type": "code",
   "execution_count": 283,
   "id": "31eee422-c498-4afe-846e-e8176c11da7f",
   "metadata": {},
   "outputs": [],
   "source": [
    "\n",
    "# animation function. This is called sequentially\n",
    "def drawframe(n):\n",
    "    x = np.linspace(0, 2, 1000)\n",
    "    y1 = np.sin(2 * np.pi * (x - 0.01 * n))\n",
    "    y2 = np.cos(2 * np.pi * (x - 0.01 * n))\n",
    "    line1.set_data(x, y1)\n",
    "    line2.set_data(x, y2)\n",
    "    line3.set_data(y1[0:50],y2[0:50])\n",
    "    pt1.set_data(y1[0],y2[0])\n",
    "    txt_title.set_text('Frame = {0:4d}'.format(n))\n",
    "    return (line1,line2)"
   ]
  },
  {
   "cell_type": "code",
   "execution_count": 284,
   "id": "bde9ccf0-757a-4227-8d58-13b23221cad1",
   "metadata": {},
   "outputs": [],
   "source": [
    "from matplotlib import animation\n",
    "\n",
    "# blit=True re-draws only the parts that have changed.\n",
    "anim = animation.FuncAnimation(fig, drawframe, frames=100, interval=20, blit=True)"
   ]
  },
  {
   "cell_type": "code",
   "execution_count": 286,
   "id": "ec23be3d-3a12-4eaf-9e49-5ab338338aba",
   "metadata": {},
   "outputs": [],
   "source": [
    "from IPython.display import HTML\n",
    "# HTML(anim.to_html5_video())"
   ]
  },
  {
   "cell_type": "code",
   "execution_count": null,
   "id": "c65dbf38-909a-4868-b981-1ed3883698a3",
   "metadata": {},
   "outputs": [],
   "source": []
  },
  {
   "cell_type": "code",
   "execution_count": null,
   "id": "edec52fb-8232-479e-bc7d-10bc3ca786e9",
   "metadata": {},
   "outputs": [],
   "source": []
  },
  {
   "cell_type": "code",
   "execution_count": null,
   "id": "96c06c91-8029-4525-bd02-475b5be044ab",
   "metadata": {},
   "outputs": [],
   "source": []
  },
  {
   "cell_type": "code",
   "execution_count": null,
   "id": "d8608dae-6833-48b7-9d40-456270af36a2",
   "metadata": {},
   "outputs": [],
   "source": []
  },
  {
   "cell_type": "code",
   "execution_count": 288,
   "id": "11fb425c-3ae7-47d1-8590-792ee79daffe",
   "metadata": {},
   "outputs": [
    {
     "data": {
      "text/html": [
       "<video width=\"432\" height=\"288\" controls autoplay loop>\n",
       "  <source type=\"video/mp4\" src=\"data:video/mp4;base64,AAAAIGZ0eXBNNFYgAAACAE00ViBpc29taXNvMmF2YzEAAAAIZnJlZQAAERxtZGF0AAACrQYF//+p\n",
       "3EXpvebZSLeWLNgg2SPu73gyNjQgLSBjb3JlIDE2MyByMzA2MCA1ZGI2YWE2IC0gSC4yNjQvTVBF\n",
       "Ry00IEFWQyBjb2RlYyAtIENvcHlsZWZ0IDIwMDMtMjAyMSAtIGh0dHA6Ly93d3cudmlkZW9sYW4u\n",
       "b3JnL3gyNjQuaHRtbCAtIG9wdGlvbnM6IGNhYmFjPTEgcmVmPTMgZGVibG9jaz0xOjA6MCBhbmFs\n",
       "eXNlPTB4MzoweDExMyBtZT1oZXggc3VibWU9NyBwc3k9MSBwc3lfcmQ9MS4wMDowLjAwIG1peGVk\n",
       "X3JlZj0xIG1lX3JhbmdlPTE2IGNocm9tYV9tZT0xIHRyZWxsaXM9MSA4eDhkY3Q9MSBjcW09MCBk\n",
       "ZWFkem9uZT0yMSwxMSBmYXN0X3Bza2lwPTEgY2hyb21hX3FwX29mZnNldD0tMiB0aHJlYWRzPTkg\n",
       "bG9va2FoZWFkX3RocmVhZHM9MSBzbGljZWRfdGhyZWFkcz0wIG5yPTAgZGVjaW1hdGU9MSBpbnRl\n",
       "cmxhY2VkPTAgYmx1cmF5X2NvbXBhdD0wIGNvbnN0cmFpbmVkX2ludHJhPTAgYmZyYW1lcz0zIGJf\n",
       "cHlyYW1pZD0yIGJfYWRhcHQ9MSBiX2JpYXM9MCBkaXJlY3Q9MSB3ZWlnaHRiPTEgb3Blbl9nb3A9\n",
       "MCB3ZWlnaHRwPTIga2V5aW50PTI1MCBrZXlpbnRfbWluPTUgc2NlbmVjdXQ9NDAgaW50cmFfcmVm\n",
       "cmVzaD0wIHJjX2xvb2thaGVhZD00MCByYz1jcmYgbWJ0cmVlPTEgY3JmPTIzLjAgcWNvbXA9MC42\n",
       "MCBxcG1pbj0wIHFwbWF4PTY5IHFwc3RlcD00IGlwX3JhdGlvPTEuNDAgYXE9MToxLjAwAIAAAAhO\n",
       "ZYiEABH//veIHzLLafk613IR560urR9Q7kZxXqS9/iAAAAMAFpyZQ/thx05aw0AAQyRjO4HB/8QB\n",
       "tfx7k/mhBCrQ5zdqJe76Z1ucchxZbW2wxmodI28J/sP/cYMV2oUnpZO/a7nSSksaX3injOw0ZW0G\n",
       "m42Wc0rDXdi9k4yVFZ6RtTB63J17eW890mYQ9qmCgpLkxVMAAv3sjSge2gMZJ9Lo/YqU3qqofbjx\n",
       "knGOOvTAI4tFJgbsrbERtWUNAoW4pXxuIBEp7BpK6y6kAoxkyjI6FoWX8BBzXVaRjSg/6YUTARtO\n",
       "j6aAAPFEpKjrPyG3xFofXUiXui0llkboEpFx68+sIRXqMcvSKpbFhse9osC/N/7DSPUFLmoUtFw6\n",
       "DmqCuZdYiD6OdKmoZ7cQJxgEj37q1gLKsOqAVjqWTdMZyM3hPF6K4Xs8uSvbt6m20FHfEU6i311C\n",
       "M//9yZRsDjhMfnW2Ae7Kggc6CjIRLYKeo89yqiKvQicxlQCMIIJ0XyHE0YTmmuld1iRxqAFT+Zsm\n",
       "5P3A6Jlh55uAH7HLZX8sqOlPHvT0IvP1zH4hdx04M2wq1edmgbw+RZMoAYAA8aBGaUz3tIzDa4y5\n",
       "2+COIugr/TeYtQivLJ9jCLxOSh09JfZm4IXFpeGPY56p/+38Da8tQOW2wItK+fXjuc1ZR43U8kNQ\n",
       "1mCiXLCTSGocsrELlNZtGTTo0CvrRerLkDzv87hsbkt7d7xemev0o0xLj1AcOCFx4OI0aFU6NMCL\n",
       "MkcRbDWx62hrdnHg9PZSILeWNnyOoDri75OcQ/Y8GZXF8BygmqjsxBBdMAkrf5IhbQrmOvVJD+NJ\n",
       "eFwAmbvOIOarc4bvVFGndG3yQDsogpJN6daDpIGyxFWXzv9zCta9rzgt+yQfNWdRXjG9Vq7rf/d9\n",
       "fWfJrOeWIhO8Nrrx65SSR8mqVbx//FCTxAQ1kfFWI2a0+8olwKPoiBXLjAmh09upWXrlpiT+4Y4n\n",
       "9d/VmAU/dYVzOUn4wnU43KbkEjdU/IDHYt7MAQbUTXIUBncM8bCkgs/052DTs0HKkQygaCEnrhmx\n",
       "/zm1nFQooGFVXSZ7okT2jUtMVay99boKXMO2oGsztj9mZ9psRXiN7VXsi++mP6Q8IcdXMiie7l4n\n",
       "6ryUSzetReL0CCvTzGUfI9PYcX2m/HdUCoEJ7D+S8JI0AEdTHrBHRgJ+DmZs7U7v8w+DP35M7WQ1\n",
       "cLO0z83SsHpODxO1ReHYqy++nt5YvvzLV8jVt++j84Rk7KbO+yFhpUd32Dg5htbRLxUWaYU0AhH+\n",
       "zGiyYkV1CY2KX4A8ry8yRDbUmTovo7rWeaA+QtlDK5zZrByTuBC3Vxznby+L/batj5tGdI09k4lP\n",
       "GTjleKhlUsN8UAzbRJe8dCmuz+MOu/k4Js/F+x9YIjvVK36tWI/2hCk/weAfP5wAaCs3sbcp4AIE\n",
       "rGDMdMGzmDIwa501mJWFdT0XAUaXXAPSYJiet0WO9Qjr2RAaNEyNipL7VCLcbkc4bbtLcAf+wwyR\n",
       "+aVOSIVenM6GudqkumT5UyzqsLtrg81s0SlFSP+xdrUJ2s69khErL58CZjLym/5E8dVIlN9/tHcN\n",
       "44QUTH6WdOtL5V3aKZSJTJWGhThdXRg6EUlxxIUzjZQf6dlLgt/zp0ch8gIAbKS3/D6ZZpo3mDHr\n",
       "O+OizfqSG12Cn7ToqW7jHBx5oNGKrZ4Zt89NW95D66ETC7lbl/WZGJPbVZR6VlS/4W3k9DlCtTxM\n",
       "0mbBxJOLBCdEO1rPr/9IAVaxNV7sBzrsccAS3dtoNnx3hWci1nVTkvNAIDSqt/03D9Qf5VF/8xBD\n",
       "4J2EZR+VHRZ2tCb6IJgk3Eew6HjycdumIAiml2rK4WaLI8UsjHeH67F6jEB/vRcvjO7jBDuhzuVX\n",
       "lRxCug8efjOfjJ+wN2MlWVDWasynSeSLxE50YfzjEaH+rIdjN60EzKo4gN2wV5o2DvRH/Jls+j/J\n",
       "N1iHR6bhevPXKV+q8mSNsB3NG0PsOaZR4RN8TSqUtGZI4y/LpD9ZfB8nF6t1cteig1baA736IUNN\n",
       "ZStVzanwP/wV3I6Dklyf6gLvrDfvkugmY24s/6pHOHA/mDR3V40V+3t682ujEqVqUhffGdAECNuO\n",
       "uf6o0FGt5PpCIa0K4Kg1vsSOTlmSINnLPuJQaTLZ5KSs4jiz7Rt7EbvWtmVPQnHHqjIuedlurryb\n",
       "3dAt/6sqdq5FRZelWX4GilKFPYoNERNEbR8WUsl8nG2RvqaJs7//FB9DLvMCqew+YqT2FIOCZyh1\n",
       "BqHBHYUObruJcpGaOK+HaOD7t/fqH/C5GGG1cExi7XcGuMuTnYzbJ/wXrbr2y9Cbckk1t/bhn1Wj\n",
       "NHuBAumGqfcqh3wgxF0JprgCKLjXD9Gwg10lC8pfqxs2IPHA+UxaafoNwgWwgqH8xeEcvFPp7Hwq\n",
       "c5xYvZl0SYhUB5xWVDpX2zV/ll+W37BA+rtpTRvBQWU4oVxGRM/LmT2A1m6lzScLFwFQhCooFYyn\n",
       "ctqyUzpSspZ56qecJNYMI72nc4RKrF3eDIUstneN/B0qYiR+DhdQraB8ycxOTIzDv+o1v29z63zz\n",
       "9cldFTtxuCuNuTA+4BpHW+IjT4VAFnmojb5PQYG2g6CURSygW8e/oX02OUHV7HY0YEvdbhzDiZ3f\n",
       "8Zfb01x5r+iaa6PGTqE+DSOcSx3uQE2uMpi9tvUyY1KduivBMU6jvl4wyq7ESZYkQ51Y/sabpvGp\n",
       "lJDFAqBKxcxN75Ojp7BS8+mqPiLX6pn/r4q9PvSKVuQlRjYtG6Ax3c9lkgK646jjxu6EVKG/nk+q\n",
       "7X+q8NTRD5IXcHiGGXvxyxkAAAHlQZohbEEf/rUqgAdJycIAITXz6HPa4t/95Q2O7v99zVmgzmUO\n",
       "Sm7HqJK2+WkgD8kVAmt+gkhXSs5kOndVXFyUP1aqCSnS53au0fYiJNArtWX2Zbz9NeQnUA2HlwOS\n",
       "2urp9qmX+d0e/3jE3P+stDCDoL4cHtjW0hu8a16pCBRH4vcN+0KLoiWKbCsDlrI1m8XAmspocMDV\n",
       "SrBpPWX2NA/uIZFxfZb9iHfe/WAAA62zVY65gb3a+M8yuzYHFekMyPO3GGk7c6V/IpMZdKHGT9VN\n",
       "PE6wuZks7PBmPIxfVCVmnZziJ/nsWn/QLkl5ocDx3f5IzsipZmHazti/Z29U9w4jzzBtjdLenyhY\n",
       "TV44ntdaSS1Tnzang9Y83x8wmbRIo+vbQ5VBs5vL419GmFCKl2cttuIUwGTlAfe8l0+cYirYqY5y\n",
       "+IceFaexmEwJ+Asxdap+WW+byOiPvI/1PuUn0TQBAMg8u7WrjOG44NOBFuc1haBTOwg15sneSq3H\n",
       "DjLGJu6OPxLC4lBwgxO+5g6mlQ2rBZ4G3kUr277n+d+mk3ISec1Pn0bs3rT9v+MBds4dTRvWeK3x\n",
       "HzK/hwceLnTPHWnzo8hlOvxOZQh/UHmNEIrU9BSxEH/TG7hNOaAfNd78uJKPeHEe7MAAAACIQZpC\n",
       "PCGTKYQR//61KoAABvtwdboUZyAA7Sut8SOoCEt5nY97meCnLlgrWRZXY7MHF6aVXsvjdB1ZrIez\n",
       "SIE3ey22O5MLMRgH/wAAAwAC1gAAAwCBOq90Pt1I6Dja7CqqipNboMXsPc0YgC/qQnUiTLPuetJ0\n",
       "qEYp1xr/wxmiYEs/KzSGTPUb4QAAAKFBmmNJ4Q8mUwII//61KoAAG+3B/Dy+OAARB9F38bdsGHqm\n",
       "B55pXczwU5csFayLK7HZg4vTSq9l45RpH7oxhHYg5Z4TNChBUzySOojafs2HSYwOGtFrwBVGn52P\n",
       "G7Ezsd88A5wOunLde0PXCI62mzqZ14gADtqqZbEmZaR19BdCZx1lHUzOXYzjy1X3pvxdPpE9Lk3/\n",
       "T/8b7qNEJWzXCzPh0wAAAIJBmoRJ4Q8mUwII//61KoAAN9uD+cOEcAAddR1NewmRyPM+we9zPBTl\n",
       "ywVrIsrsdmDi9NKr2Xkm5I+nD2aRAm72W3cyAk9DtEYRggAAAwANTAAAAwAyMqmWYgaFTLU0DN2O\n",
       "BfXbzWz8iE1jtTYYDwMnUFjUMHMg042vTPk+eOt4udSBAAAAl0GapUnhDyZTAgj//rUqgABvtv6F\n",
       "+PzOAAOvL5KgmWPTSKQWd8QrR+Xv4XFLZ9jDulSQZ5phFOBBXaocUIUvwA+Fytibm/ggDgLb4aph\n",
       "MJ+mvITqAbDy4rSYeorYfGDrpZkUGQTgAAADAN1y+7VMsQTFnJi8O6Ss9PY9EyWEbCJ3VM/cDgFs\n",
       "AVDPO4mIL4dY3gBtvG3ApIEAAAB2QZrGSeEPJlMCCP/+tSqAAb7cH8PL44AA7Sut8SOoCEt5nY97\n",
       "meCnLlgrWRZXY7MHF6aVXsvHKNI/WQ9mkQJu9ltv7tqmZFCzj6jAKZqicAAAAwAATHeEBRsww2Sg\n",
       "1ZiaQ8WBBp/zhO5jo12qy7IfY3ctAKd9QQAAAHVBmudJ4Q8mUwII//61KoADfbg6zrPfgAHaXn6q\n",
       "CZY9NIpBYL+5QQrV+Xv4XF7XLpPU3szzTCKcCCu1Q4oQpfgB8LlbEmdhM/5w9hzyTHvtmgIY4vF4\n",
       "5cOoMHjH/gYAyCHRKbAAAAMAW73aplgQUZ6fsoZkI+EAAABlQZsISeEPJlMCCH/+qlUAIj3hUBnU\n",
       "I8M+fSjfnJPztNrWaOSeIJgIS3mfG25vDNkXuJMj6bQjjyB3E1TDmS0ojJ5GgOkQJrOON+YsyDWB\n",
       "AmHoAAADAFqd7rRlgNzou88unVhusCAAAAB2QZspSeEPJlMCH//+qZYA+8Q//sbIwAJyT6n6k1KT\n",
       "SKQWbfvG1BXhHXpuTlGFW0D/3iAhj3xSzJrgxabK/MP2WBuITRlPtFfkz6Ls0BEwsyPNDLU6jdGb\n",
       "apmMPmQL74ySu+sAAAMAAAuoZYAKNmxBwfas3/TUgAAAA2Jtb292AAAAbG12aGQAAAAAAAAAAAAA\n",
       "AAAAAAPoAAAH0AABAAABAAAAAAAAAAAAAAAAAQAAAAAAAAAAAAAAAAAAAAEAAAAAAAAAAAAAAAAA\n",
       "AEAAAAAAAAAAAAAAAAAAAAAAAAAAAAAAAAAAAAAAAAACAAACjHRyYWsAAABcdGtoZAAAAAMAAAAA\n",
       "AAAAAAAAAAEAAAAAAAAH0AAAAAAAAAAAAAAAAAAAAAAAAQAAAAAAAAAAAAAAAAAAAAEAAAAAAAAA\n",
       "AAAAAAAAAEAAAAABsAAAASAAAAAAACRlZHRzAAAAHGVsc3QAAAAAAAAAAQAAB9AAABAAAAEAAAAA\n",
       "AgRtZGlhAAAAIG1kaGQAAAAAAAAAAAAAAAAAACgAAABQAFXEAAAAAAAtaGRscgAAAAAAAAAAdmlk\n",
       "ZQAAAAAAAAAAAAAAAFZpZGVvSGFuZGxlcgAAAAGvbWluZgAAABR2bWhkAAAAAQAAAAAAAAAAAAAA\n",
       "JGRpbmYAAAAcZHJlZgAAAAAAAAABAAAADHVybCAAAAABAAABb3N0YmwAAAC3c3RzZAAAAAAAAAAB\n",
       "AAAAp2F2YzEAAAAAAAAAAQAAAAAAAAAAAAAAAAAAAAABsAEgAEgAAABIAAAAAAAAAAEAAAAAAAAA\n",
       "AAAAAAAAAAAAAAAAAAAAAAAAAAAAAAAAAAAY//8AAAA1YXZjQwFkABX/4QAYZ2QAFazZQbCWhAAA\n",
       "AwAEAAADACg8WLZYAQAGaOvjyyLA/fj4AAAAABx1dWlka2hA8l8kT8W6OaUbzwMj8wAAAAAAAAAY\n",
       "c3R0cwAAAAAAAAABAAAACgAACAAAAAAUc3RzcwAAAAAAAAABAAAAAQAAABhjdHRzAAAAAAAAAAEA\n",
       "AAAKAAAQAAAAABxzdHNjAAAAAAAAAAEAAAABAAAACgAAAAEAAAA8c3RzegAAAAAAAAAAAAAACgAA\n",
       "CwMAAAHpAAAAjAAAAKUAAACGAAAAmwAAAHoAAAB5AAAAaQAAAHoAAAAUc3RjbwAAAAAAAAABAAAA\n",
       "MAAAAGJ1ZHRhAAAAWm1ldGEAAAAAAAAAIWhkbHIAAAAAAAAAAG1kaXJhcHBsAAAAAAAAAAAAAAAA\n",
       "LWlsc3QAAAAlqXRvbwAAAB1kYXRhAAAAAQAAAABMYXZmNTguNzYuMTAw\n",
       "\">\n",
       "  Your browser does not support the video tag.\n",
       "</video>"
      ],
      "text/plain": [
       "<IPython.core.display.HTML object>"
      ]
     },
     "execution_count": 288,
     "metadata": {},
     "output_type": "execute_result"
    },
    {
     "data": {
      "image/png": "[encoded data removed]",
      "text/plain": [
       "<Figure size 432x288 with 1 Axes>"
      ]
     },
     "metadata": {
      "needs_background": "light"
     },
     "output_type": "display_data"
    }
   ],
   "source": []
  },
  {
   "cell_type": "code",
   "execution_count": null,
   "id": "0d0be7d2-f44a-4c32-af36-71d6c52bdb10",
   "metadata": {},
   "outputs": [],
   "source": []
  }
 ],
 "metadata": {
  "kernelspec": {
   "display_name": "Python 3 (ipykernel)",
   "language": "python",
   "name": "python3"
  },
  "language_info": {
   "codemirror_mode": {
    "name": "ipython",
    "version": 3
   },
   "file_extension": ".py",
   "mimetype": "text/x-python",
   "name": "python",
   "nbconvert_exporter": "python",
   "pygments_lexer": "ipython3",
   "version": "3.9.5"
  }
 },
 "nbformat": 4,
 "nbformat_minor": 5
}
