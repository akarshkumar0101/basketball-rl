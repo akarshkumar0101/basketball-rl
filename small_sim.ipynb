{
 "cells": [
  {
   "cell_type": "code",
   "execution_count": 3,
   "metadata": {},
   "outputs": [],
   "source": [
    "import matplotlib.pyplot as plt\n",
    "import matplotlib.animation\n",
    "\n",
    "import numpy as np\n",
    "\n",
    "import torch\n",
    "import torch.nn\n",
    "\n",
    "import torchsummary\n",
    "\n",
    "from tqdm.notebook import tqdm"
   ]
  },
  {
   "cell_type": "code",
   "execution_count": 183,
   "metadata": {},
   "outputs": [],
   "source": [
    "def loss_function(x_all, mse=False, all_game_steps=False):\n",
    "    if not all_game_steps:\n",
    "        x_all = x_all[:, -1]\n",
    "    x_dist = x_all - 0.9\n",
    "    if mse:\n",
    "        loss = (x_dist**2).mean()        \n",
    "    else:\n",
    "        loss = -torch.exp(-x_dist**2).mean()\n",
    "    \n",
    "    return loss\n",
    "\n",
    "def simulation(model_o, x_init, tp=False):\n",
    "    x_current = x_init\n",
    "    x_all = [x_current]\n",
    "    \n",
    "    bs = x_init.shape[0]\n",
    "    for i in range(100):\n",
    "        tss = (i/(100-1)) * torch.ones(bs, 1)*0.0\n",
    "        x_current = x_current.clone()\n",
    "        x_move = model_o(x_current, tss)\n",
    "        if tp:\n",
    "            x_current = x_move\n",
    "        else:\n",
    "            x_current = (x_current + 0.02*x_move).clamp(-1, 1)\n",
    "        x_all.append(x_current)\n",
    "    return torch.cat(x_all, dim=-1)"
   ]
  },
  {
   "cell_type": "code",
   "execution_count": 184,
   "metadata": {},
   "outputs": [
    {
     "name": "stdout",
     "output_type": "stream",
     "text": [
      "----------------------------------------------------------------\n",
      "        Layer (type)               Output Shape         Param #\n",
      "================================================================\n",
      "            Linear-1                  [-1, 100]             300\n",
      "              Tanh-2                  [-1, 100]               0\n",
      "            Linear-3                  [-1, 100]          10,100\n",
      "              Tanh-4                  [-1, 100]               0\n",
      "            Linear-5                    [-1, 1]             101\n",
      "          Identity-6                    [-1, 1]               0\n",
      "================================================================\n",
      "Total params: 10,501\n",
      "Trainable params: 10,501\n",
      "Non-trainable params: 0\n",
      "----------------------------------------------------------------\n",
      "Input size (MB): 0.00\n",
      "Forward/backward pass size (MB): 0.00\n",
      "Params size (MB): 0.04\n",
      "Estimated Total Size (MB): 0.04\n",
      "----------------------------------------------------------------\n"
     ]
    }
   ],
   "source": [
    "def get_dense_layers(num_features):\n",
    "\n",
    "    acts = [torch.nn.Tanh() for _ in num_features[1:-1]]\n",
    "    acts.append(torch.nn.Identity())\n",
    "    layers = []\n",
    "    for num_in, num_out, act in zip(num_features, num_features[1:], acts):\n",
    "        layers.extend((torch.nn.Linear(num_in, num_out), act))\n",
    "    return torch.nn.Sequential(*layers)\n",
    "\n",
    "\n",
    "class OffenseModel(torch.nn.Module):\n",
    "    def __init__(self):\n",
    "        super().__init__()\n",
    "        self.main = get_dense_layers([2, 100, 100, 1])\n",
    "\n",
    "    def forward(self, X, tss):\n",
    "        X = X.view(-1, 1)\n",
    "        X = torch.cat((X, tss), dim=-1)\n",
    "        X = self.main(X)\n",
    "        X = X.view(-1, 1)\n",
    "        X = torch.tanh(X)\n",
    "        return X\n",
    "\n",
    "model_o = OffenseModel()\n",
    "\n",
    "torchsummary.summary(model_o, [(1, ), (1, )])"
   ]
  },
  {
   "cell_type": "code",
   "execution_count": 185,
   "metadata": {},
   "outputs": [],
   "source": [
    "tp = False\n",
    "mse = False\n",
    "all_game_steps = False\n",
    "generate_func = torch.randn"
   ]
  },
  {
   "cell_type": "code",
   "execution_count": 186,
   "metadata": {},
   "outputs": [
    {
     "name": "stdout",
     "output_type": "stream",
     "text": [
      "Loss:  -0.03320673480629921\n"
     ]
    },
    {
     "data": {
      "image/png": "[encoded data removed]",
      "text/plain": [
       "<Figure size 432x288 with 1 Axes>"
      ]
     },
     "metadata": {
      "needs_background": "light"
     },
     "output_type": "display_data"
    }
   ],
   "source": [
    "x_all = simulation(model_o, generate_func(1, 1), tp=tp)\n",
    "print('Loss: ', loss_function(x_all, mse=mse, all_game_steps=all_game_steps).item())\n",
    "\n",
    "plt.plot(np.arange(len(x_all[0])), x_all[0].detach().numpy())\n",
    "plt.ylim(-1, 1)\n",
    "plt.show()"
   ]
  },
  {
   "cell_type": "code",
   "execution_count": 211,
   "metadata": {},
   "outputs": [
    {
     "data": {
      "application/vnd.jupyter.widget-view+json": {
       "model_id": "c65a2ebdecde49f1b4f360398d0f8a2d",
       "version_major": 2,
       "version_minor": 0
      },
      "text/plain": [
       "HBox(children=(FloatProgress(value=0.0, max=50.0), HTML(value='')))"
      ]
     },
     "metadata": {},
     "output_type": "display_data"
    },
    {
     "name": "stdout",
     "output_type": "stream",
     "text": [
      "\n"
     ]
    }
   ],
   "source": [
    "opt = torch.optim.Adam(model_o.parameters())\n",
    "\n",
    "pbar = tqdm(range(50))\n",
    "for epoch in pbar:\n",
    "    x_all = simulation(model_o, generate_func(19, 1), tp=tp)\n",
    "    \n",
    "    loss = loss_function(x_all, mse=mse, all_game_steps=all_game_steps)\n",
    "    opt.zero_grad()\n",
    "    loss.backward()\n",
    "    grad_max = 0.0\n",
    "    for params in model_o.parameters():\n",
    "        grad = params.grad.abs().max() \n",
    "        if grad>grad_max:\n",
    "            grad_max = grad\n",
    "    opt.step()\n",
    "    pbar.set_postfix({'Loss ': loss.item(), 'Grad Max': grad_max})"
   ]
  },
  {
   "cell_type": "code",
   "execution_count": 212,
   "metadata": {},
   "outputs": [
    {
     "name": "stdout",
     "output_type": "stream",
     "text": [
      "Loss:  -0.9900498390197754\n"
     ]
    },
    {
     "data": {
      "image/png": "[encoded data removed]",
      "text/plain": [
       "<Figure size 432x288 with 1 Axes>"
      ]
     },
     "metadata": {
      "needs_background": "light"
     },
     "output_type": "display_data"
    }
   ],
   "source": [
    "x_all = simulation(model_o, generate_func(1, 1), tp=tp)\n",
    "print('Loss: ', loss_function(x_all, mse=mse, all_game_steps=all_game_steps).item())\n",
    "\n",
    "plt.plot(np.arange(len(x_all[0])), x_all[0].detach().numpy())\n",
    "plt.ylim(0, 1)\n",
    "plt.show()"
   ]
  },
  {
   "cell_type": "markdown",
   "metadata": {},
   "source": [
    "things to mess around with:\n",
    "\n",
    "- simulation by player steps vs player teleport\n",
    "- loss function (guassian loss vs MSE loss)\n",
    "- only last game_step vs all game_steps in loss function\n",
    "- start from only zeros vs randn\n",
    "\n",
    "---\n",
    "\n",
    "- add timestamp to model input\n",
    "- collision physics strict vs in loss function vs both\n"
   ]
  },
  {
   "cell_type": "markdown",
   "metadata": {},
   "source": [
    "tp = True\n",
    "mse = True\n",
    "all_game_steps = True\n",
    "generate_func = torch.zeros\n",
    "\n",
    "converges to 0.9 in around 100 steps (not 50)\n",
    "\n",
    "---\n",
    "\n",
    "tp = True\n",
    "mse = True\n",
    "all_game_steps = True\n",
    "generate_func = torch.randn\n",
    "\n",
    "converges to 0.9 in around 100 steps (not 50) in all random starts\n",
    "\n",
    "---\n",
    "\n",
    "tp = True\n",
    "mse = True\n",
    "all_game_steps = False\n",
    "generate_func = torch.zeros\n",
    "\n",
    "converges to 0.9 in around 100 steps (not 50)\n",
    "\n",
    "--- \n",
    "\n",
    "tp = True\n",
    "mse = True\n",
    "all_game_steps = False\n",
    "generate_func = torch.randn\n",
    "\n",
    "converges to 0.9 in around 100 steps (not 50) in all random starts\n",
    "\n",
    "---\n",
    "\n",
    "tp = True\n",
    "mse = False\n",
    "all_game_steps = True\n",
    "generate_func = torch.zeros\n",
    "\n",
    "converges to 0.9 in around 100 steps (not 50)\n",
    "\n",
    "--- \n",
    "\n",
    "tp = True\n",
    "mse = False\n",
    "all_game_steps = True\n",
    "generate_func = torch.randn\n",
    "\n",
    "converges to 0.9 in around 100 steps (not 50) in all random starts\n",
    "\n",
    "--- \n",
    "tp = True\n",
    "mse = False\n",
    "all_game_steps = False\n",
    "generate_func = torch.zeros\n",
    "\n",
    "converges to 0.9 in around 100 steps (not 50)\n",
    "\n",
    "---\n",
    "\n",
    "tp = True\n",
    "mse = False\n",
    "all_game_steps = False\n",
    "generate_func = torch.randn\n",
    "\n",
    "converges to 0.9 in around 100 steps (not 50) in all random starts\n"
   ]
  },
  {
   "cell_type": "markdown",
   "metadata": {},
   "source": [
    "tp = False\n",
    "mse = True\n",
    "all_game_steps = True\n",
    "generate_func = torch.zeros\n",
    "\n",
    "NOPE, goes to 1 ASAP\n",
    "\n",
    "---\n",
    "\n",
    "tp = False\n",
    "mse = True\n",
    "all_game_steps = True\n",
    "generate_func = torch.randn\n",
    "\n",
    "NOPE, goes to 1 ASAP\n",
    "\n",
    "---\n",
    "\n",
    "tp = False\n",
    "mse = True\n",
    "all_game_steps = False\n",
    "generate_func = torch.zeros\n",
    "\n",
    "NOPE, goes to 1 ASAP\n",
    "\n",
    "---\n",
    "\n",
    "tp = False\n",
    "mse = True\n",
    "all_game_steps = False\n",
    "generate_func = torch.randn\n",
    "\n",
    "converges to 0.9 in around 150 steps (not 50) in all random starts\n",
    "\n",
    "---\n",
    "\n",
    "tp = False\n",
    "mse = False\n",
    "all_game_steps = True\n",
    "generate_func = torch.zeros\n",
    "\n",
    "NOPE, goes to 1 ASAP\n",
    "\n",
    "\n",
    "---\n",
    "\n",
    "tp = False\n",
    "mse = False\n",
    "all_game_steps = True\n",
    "generate_func = torch.randn\n",
    "\n",
    "NOPE, goes to 1 ASAP\n",
    "\n",
    "\n",
    "---\n",
    "\n",
    "tp = False\n",
    "mse = False\n",
    "all_game_steps = False\n",
    "generate_func = torch.zeros\n",
    "\n",
    "NOPE, goes to 1 ASAP\n",
    "\n",
    "---\n",
    "\n",
    "tp = False\n",
    "mse = False\n",
    "all_game_steps = False\n",
    "generate_func = torch.randn\n",
    "\n",
    "NOPE, goes to 1 ASAP\n"
   ]
  },
  {
   "cell_type": "code",
   "execution_count": null,
   "metadata": {},
   "outputs": [],
   "source": []
  }
 ],
 "metadata": {
  "kernelspec": {
   "display_name": "Python 3",
   "language": "python",
   "name": "python3"
  },
  "language_info": {
   "codemirror_mode": {
    "name": "ipython",
    "version": 3
   },
   "file_extension": ".py",
   "mimetype": "text/x-python",
   "name": "python",
   "nbconvert_exporter": "python",
   "pygments_lexer": "ipython3",
   "version": "3.7.1"
  }
 },
 "nbformat": 4,
 "nbformat_minor": 4
}
