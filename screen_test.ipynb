{
 "cells": [
  {
   "cell_type": "code",
   "execution_count": 1,
   "metadata": {},
   "outputs": [],
   "source": [
    "import torch\n",
    "import matplotlib.pyplot as plt\n",
    "import numpy as np"
   ]
  },
  {
   "cell_type": "code",
   "execution_count": null,
   "metadata": {},
   "outputs": [],
   "source": []
  },
  {
   "cell_type": "code",
   "execution_count": 48,
   "metadata": {},
   "outputs": [
    {
     "name": "stderr",
     "output_type": "stream",
     "text": [
      "<ipython-input-48-9acfe8696075>:15: UserWarning: Matplotlib is currently using module://ipykernel.pylab.backend_inline, which is a non-GUI backend, so cannot show the figure.\n",
      "  fig.show()\n"
     ]
    },
    {
     "data": {
      "image/png": "[encoded data removed]",
      "text/plain": [
       "<Figure size 432x288 with 1 Axes>"
      ]
     },
     "metadata": {
      "needs_background": "light"
     },
     "output_type": "display_data"
    }
   ],
   "source": [
    "class State():\n",
    "    def __init__(self, opx, dpx):\n",
    "        self.opx = opx\n",
    "        self.dpx = dpx\n",
    "def get_init_state():\n",
    "    return State(torch.tensor([0., -1.]), torch.tensor([0., 0.]))\n",
    "\n",
    "def viz_state(s):\n",
    "    plt.scatter(s.opx[0].detach().numpy(), s.opx[1].detach().numpy(), s=200)\n",
    "    plt.scatter(s.dpx[0].detach().numpy(), s.dpx[1].detach().numpy(), s=200)\n",
    "    plt.xlim(-1, 1);plt.ylim(-1, 1)\n",
    "    return plt.gcf()\n",
    "\n",
    "fig = viz_state(get_init_state())\n",
    "fig.show()"
   ]
  },
  {
   "cell_type": "code",
   "execution_count": null,
   "metadata": {},
   "outputs": [],
   "source": []
  },
  {
   "cell_type": "code",
   "execution_count": 62,
   "metadata": {},
   "outputs": [],
   "source": [
    "class Model(torch.nn.Module):\n",
    "    def __init__(self):\n",
    "        super().__init__()\n",
    "        self.main = torch.nn.Sequential(*[\n",
    "            torch.nn.Linear(4, 10),\n",
    "            torch.nn.ReLU(),\n",
    "            torch.nn.Linear(10, 10),\n",
    "            torch.nn.ReLU(),\n",
    "            torch.nn.Linear(10, 10),\n",
    "            torch.nn.ReLU(),\n",
    "            torch.nn.Linear(10, 2),\n",
    "            torch.nn.ReLU(),\n",
    "        ])\n",
    "        \n",
    "    def forward(self, s):\n",
    "        X = torch.cat([s.opx, s.dpx])\n",
    "        X = self.main(X)\n",
    "        X = torch.tanh(X)*.1\n",
    "        return X\n",
    "        \n",
    "model_o = Model()\n",
    "model_d = Model()"
   ]
  },
  {
   "cell_type": "code",
   "execution_count": null,
   "metadata": {},
   "outputs": [],
   "source": []
  },
  {
   "cell_type": "code",
   "execution_count": 63,
   "metadata": {},
   "outputs": [],
   "source": [
    "states = [get_init_state()]\n",
    "for i in range(50):\n",
    "    s = states[-1]\n",
    "    om = model_o(s)\n",
    "    dm = model_d(s)\n",
    "    ns = State(s.opx+om, s.dpx+dm)\n",
    "    states.append(ns)\n",
    "    "
   ]
  },
  {
   "cell_type": "code",
   "execution_count": 65,
   "metadata": {},
   "outputs": [],
   "source": [
    "def save_state_pngs(states):\n",
    "    for i, s in enumerate(states):\n",
    "        fig = viz_state(s)\n",
    "        plt.savefig(f'data/{i:03d}.png')\n",
    "        plt.close()\n",
    "!rm data/*\n",
    "save_state_pngs(states)"
   ]
  },
  {
   "cell_type": "code",
   "execution_count": 66,
   "metadata": {},
   "outputs": [
    {
     "name": "stdout",
     "output_type": "stream",
     "text": [
      "rm: cannot remove 'data/out.gif': No such file or directory\n"
     ]
    }
   ],
   "source": [
    "!rm data/out.gif\n",
    "!ffmpeg -framerate 15 -i data/%03d.png data/out.gif -v quiet"
   ]
  },
  {
   "cell_type": "markdown",
   "metadata": {},
   "source": [
    "![ff](data/out.gif)\n"
   ]
  },
  {
   "cell_type": "code",
   "execution_count": null,
   "metadata": {},
   "outputs": [],
   "source": []
  },
  {
   "cell_type": "code",
   "execution_count": null,
   "metadata": {},
   "outputs": [],
   "source": []
  },
  {
   "cell_type": "code",
   "execution_count": null,
   "metadata": {},
   "outputs": [],
   "source": []
  },
  {
   "cell_type": "code",
   "execution_count": null,
   "metadata": {},
   "outputs": [],
   "source": []
  },
  {
   "cell_type": "code",
   "execution_count": null,
   "metadata": {},
   "outputs": [],
   "source": []
  },
  {
   "cell_type": "code",
   "execution_count": null,
   "metadata": {},
   "outputs": [],
   "source": []
  }
 ],
 "metadata": {
  "kernelspec": {
   "display_name": "Python 3",
   "language": "python",
   "name": "python3"
  },
  "language_info": {
   "codemirror_mode": {
    "name": "ipython",
    "version": 3
   },
   "file_extension": ".py",
   "mimetype": "text/x-python",
   "name": "python",
   "nbconvert_exporter": "python",
   "pygments_lexer": "ipython3",
   "version": "3.8.5"
  }
 },
 "nbformat": 4,
 "nbformat_minor": 4
}
