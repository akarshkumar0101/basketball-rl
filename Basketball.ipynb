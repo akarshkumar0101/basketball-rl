{
 "cells": [
  {
   "cell_type": "code",
   "execution_count": 1,
   "metadata": {},
   "outputs": [
    {
     "name": "stdout",
     "output_type": "stream",
     "text": [
      "cpu\n"
     ]
    }
   ],
   "source": [
    "import numpy as np\n",
    "\n",
    "%matplotlib inline\n",
    "import matplotlib.pyplot as plt\n",
    "\n",
    "import torch\n",
    "import torch.nn\n",
    "\n",
    "from tqdm.notebook import tqdm\n",
    "\n",
    "\n",
    "device = torch.device(\"cuda\" if torch.cuda.is_available() else \"cpu\")\n",
    "dtype = torch.float\n",
    "print(device)\n",
    "\n",
    "torch.manual_seed(0)\n",
    "np.random.seed(0)"
   ]
  },
  {
   "cell_type": "code",
   "execution_count": 2,
   "metadata": {},
   "outputs": [],
   "source": [
    "hoop_location = torch.tensor([0, 0.8])\n",
    "\n",
    "o_player_idxs = torch.arange(5)\n",
    "d_player_idxs = torch.arange(5, 10)\n",
    "ball_idxs = torch.tensor([10])\n",
    "\n",
    "num_game_steps = 50\n",
    "\n",
    "\n",
    "def random_initial_game_state(batch_size, only_game_state=True):\n",
    "    opls = torch.rand(batch_size, len(o_player_idxs), 2)*2 - 1\n",
    "    dpls = torch.rand(batch_size, len(d_player_idxs), 2)*2 - 1\n",
    "    bls = torch.rand(batch_size, len(ball_idxs), 2)*2 - 1\n",
    "    \n",
    "    init_game_state = torch.cat((opls, dpls, bls), dim=1)\n",
    "    \n",
    "    if only_game_state:\n",
    "        return init_game_state\n",
    "    else:\n",
    "        return init_game_state, opls, dpls, bls"
   ]
  },
  {
   "cell_type": "markdown",
   "metadata": {},
   "source": [
    "# Game Visualization"
   ]
  },
  {
   "cell_type": "code",
   "execution_count": 3,
   "metadata": {},
   "outputs": [
    {
     "data": {
      "image/png": "[encoded data removed]",
      "text/plain": [
       "<Figure size 576x576 with 1 Axes>"
      ]
     },
     "metadata": {
      "needs_background": "light"
     },
     "output_type": "display_data"
    }
   ],
   "source": [
    "def show_game_state(game_state, ax=None):\n",
    "    if ax is None:\n",
    "        fig, ax = plt.subplots(figsize=(8,8)) # note we must use plt.subplots, not plt.subplot\n",
    "    # (or if you have an existing figure)\n",
    "#     fig = plt.gcf()\n",
    "#     ax = fig.gca()\n",
    "    \n",
    "    ax.set_xlim(-1,1)\n",
    "    ax.set_ylim(-1,1)\n",
    "    \n",
    "    for o_player in o_player_idxs.numpy():\n",
    "        x, y = game_state[o_player]\n",
    "        circle = plt.Circle((x, y), radius = 0.05, color='b')\n",
    "        ax.add_artist(circle)\n",
    "    for d_player in d_player_idxs.numpy():\n",
    "        x, y = game_state[d_player]\n",
    "        circle = plt.Circle((x, y), radius = 0.05, color='r')\n",
    "        ax.add_artist(circle)\n",
    "    for ball in ball_idxs.numpy():\n",
    "        x, y = game_state[ball]\n",
    "        circle = plt.Circle((x, y), radius = 0.04, color='orange')\n",
    "        ax.add_artist(circle)\n",
    "    \n",
    "    ax.add_artist(plt.Circle(hoop_location.numpy(), radius=0.1, color='orange', fill=False))\n",
    "    \n",
    "    ax.set_title('Game State')\n",
    "    ax.set_xlabel('X-axis')\n",
    "    ax.set_ylabel('Y-axis')\n",
    "    \n",
    "#     circle2 = plt.Circle((0.5, 0.5), 0.2, color='blue')\n",
    "#     circle3 = plt.Circle((-1, 1), 0.2, color='g', clip_on=False)\n",
    "    return ax\n",
    "#     return fig\n",
    "\n",
    "game_state = torch.rand(11, 2) * 2 - 1\n",
    "show_game_state(game_state)\n",
    "plt.show()"
   ]
  },
  {
   "cell_type": "markdown",
   "metadata": {},
   "source": [
    "# Model Definitions"
   ]
  },
  {
   "cell_type": "code",
   "execution_count": 4,
   "metadata": {},
   "outputs": [],
   "source": [
    "def get_dense_layers(num_features):\n",
    "    acts = [torch.nn.LeakyReLU() for num_out in num_features[1:-1]]\n",
    "    acts.append(torch.nn.Identity())\n",
    "    layers = []\n",
    "    for num_in, num_out, act in zip(num_features, num_features[1:], acts):\n",
    "        layers.extend((torch.nn.Linear(num_in, num_out), act))\n",
    "    return torch.nn.Sequential(*layers)\n",
    "\n",
    "class OffenseModel(torch.nn.Module):\n",
    "    def __init__(self):\n",
    "        super().__init__()\n",
    "        self.main = get_dense_layers([11*2, 100, 100, 6*2])\n",
    "    def forward(self, X):\n",
    "        X = X.view(-1, 11*2)\n",
    "        X = self.main(X)\n",
    "        X = torch.tanh(X)\n",
    "        X = X.view(-1, 6, 2)\n",
    "        return X\n",
    "    \n",
    "class DefenseModel(torch.nn.Module):\n",
    "    def __init__(self):\n",
    "        super().__init__()\n",
    "        self.main = get_dense_layers([11*2, 100, 100, 5*2])\n",
    "    def forward(self, X):\n",
    "        X = X.view(-1, 11*2)\n",
    "        X = self.main(X)\n",
    "        X = 0.1 * torch.tanh(X)\n",
    "        X = X.view(-1, 5, 2)\n",
    "        return X\n",
    "    \n",
    "o_model = OffenseModel()\n",
    "d_model = DefenseModel()\n"
   ]
  },
  {
   "cell_type": "markdown",
   "metadata": {},
   "source": [
    "# Optimization"
   ]
  },
  {
   "cell_type": "code",
   "execution_count": 5,
   "metadata": {},
   "outputs": [],
   "source": [
    "def loss_function(all_game_states):\n",
    "    loss = 0.0\n",
    "    for game_state in all_game_states:\n",
    "#         ball = game_state[:, ball_idxs] # b, 1, 2\n",
    "        ls = game_state[:, torch.cat((o_player_idxs, d_player_idxs, ball_idxs)), :]\n",
    "    \n",
    "        center = torch.tensor([0,0])[None, None, :]\n",
    "        \n",
    "        dists = ls - center\n",
    "        dists = dists.norm(dim=-1)\n",
    "        loss += dists.mean()\n",
    "#         loss = loss + dists.min(dim=-1).values.mean()\n",
    "        \n",
    "    return loss"
   ]
  },
  {
   "cell_type": "code",
   "execution_count": 6,
   "metadata": {},
   "outputs": [],
   "source": [
    "def run_simulation(o_model, d_model, init_game_state, with_grad=False, pbar=None):\n",
    "    all_game_states = [init_game_state]\n",
    "    \n",
    "    current_game_state = init_game_state\n",
    "    with torch.set_grad_enabled(with_grad):\n",
    "        \n",
    "        if pbar is not None:\n",
    "            pbar.reset(total=num_game_steps)\n",
    "        for game_step in range(num_game_steps):\n",
    "            o_move = o_model(current_game_state)\n",
    "            d_move = d_model(current_game_state)\n",
    "\n",
    "            current_game_state = current_game_state.clone()\n",
    "            current_game_state[:, torch.cat((o_player_idxs, ball_idxs)), :] += o_move\n",
    "            current_game_state[:, d_player_idxs, :] += d_move\n",
    "            current_game_state = current_game_state.clamp(-1, 1)\n",
    "\n",
    "            all_game_states.append(current_game_state)\n",
    "            if pbar is not None:\n",
    "                pbar.update()\n",
    "    return all_game_states\n",
    "        "
   ]
  },
  {
   "cell_type": "code",
   "execution_count": 7,
   "metadata": {},
   "outputs": [
    {
     "name": "stdout",
     "output_type": "stream",
     "text": [
      "Loss:  51.4874153137207\n"
     ]
    },
    {
     "data": {
      "image/png": "[encoded data removed]",
      "text/plain": [
       "<Figure size 576x576 with 1 Axes>"
      ]
     },
     "metadata": {
      "needs_background": "light"
     },
     "output_type": "display_data"
    }
   ],
   "source": [
    "init_game_state = random_initial_game_state(batch_size=1)\n",
    "all_game_states = run_simulation(o_model, d_model, init_game_state)\n",
    "\n",
    "print('Loss: ', loss_function(all_game_states).item())\n",
    "show_game_state(all_game_states[-1][0])\n",
    "plt.show()"
   ]
  },
  {
   "cell_type": "code",
   "execution_count": 11,
   "metadata": {
    "scrolled": true
   },
   "outputs": [
    {
     "data": {
      "application/vnd.jupyter.widget-view+json": {
       "model_id": "8b536c837e1143b3a393d9e2610644c5",
       "version_major": 2,
       "version_minor": 0
      },
      "text/plain": [
       "HBox(children=(FloatProgress(value=0.0, description='Epochs', max=200.0, style=ProgressStyle(description_width…"
      ]
     },
     "metadata": {},
     "output_type": "display_data"
    },
    {
     "data": {
      "application/vnd.jupyter.widget-view+json": {
       "model_id": "4045aaf3cfaa4d44933f6697f7272043",
       "version_major": 2,
       "version_minor": 0
      },
      "text/plain": [
       "HBox(children=(FloatProgress(value=1.0, bar_style='info', description='Batch Game Simulation', max=1.0, style=…"
      ]
     },
     "metadata": {},
     "output_type": "display_data"
    },
    {
     "name": "stdout",
     "output_type": "stream",
     "text": [
      "16.055952072143555\n",
      "16.12135124206543\n",
      "16.226160049438477\n",
      "15.339223861694336\n",
      "15.540726661682129\n",
      "14.373616218566895\n",
      "14.509963989257812\n",
      "13.150086402893066\n",
      "13.9183931350708\n",
      "13.431341171264648\n",
      "13.670134544372559\n",
      "13.050594329833984\n",
      "12.361645698547363\n",
      "11.835216522216797\n",
      "11.43553638458252\n",
      "11.188475608825684\n",
      "11.11238956451416\n",
      "10.82640266418457\n",
      "10.540319442749023\n",
      "10.193244934082031\n",
      "9.990018844604492\n",
      "10.281079292297363\n",
      "9.191643714904785\n",
      "9.435221672058105\n",
      "9.357771873474121\n",
      "8.970170021057129\n",
      "8.799090385437012\n",
      "9.01623821258545\n",
      "8.593852043151855\n",
      "8.112977981567383\n",
      "8.32147216796875\n",
      "8.609521865844727\n",
      "8.041021347045898\n",
      "7.812572002410889\n",
      "8.128307342529297\n",
      "7.51364278793335\n",
      "7.602682113647461\n",
      "7.423536777496338\n",
      "6.7020182609558105\n",
      "7.341484546661377\n",
      "7.0994157791137695\n",
      "6.582167625427246\n",
      "6.836182594299316\n",
      "6.691652774810791\n",
      "6.886010646820068\n",
      "6.908423900604248\n",
      "6.408600807189941\n",
      "6.360948085784912\n",
      "6.436384677886963\n",
      "6.223938941955566\n",
      "6.132948398590088\n",
      "5.501436233520508\n",
      "5.6594414710998535\n",
      "6.0405988693237305\n",
      "5.792749881744385\n",
      "5.900484085083008\n",
      "5.7844414710998535\n",
      "5.782068252563477\n",
      "5.39567232131958\n",
      "5.487589359283447\n",
      "5.62276554107666\n",
      "5.62671422958374\n",
      "5.365167140960693\n",
      "5.180386066436768\n",
      "5.3357415199279785\n",
      "5.6799798011779785\n",
      "4.863303184509277\n",
      "5.217109203338623\n",
      "4.954277515411377\n",
      "5.112011432647705\n",
      "4.666518211364746\n",
      "5.03749418258667\n",
      "4.559108257293701\n",
      "4.719790935516357\n",
      "4.86307954788208\n",
      "4.6728010177612305\n",
      "4.663665294647217\n",
      "4.646572113037109\n",
      "4.9373674392700195\n",
      "4.67887544631958\n",
      "4.489727020263672\n",
      "4.431614398956299\n",
      "4.471269607543945\n",
      "4.739423751831055\n",
      "4.417620658874512\n",
      "4.4641594886779785\n",
      "4.369378566741943\n",
      "4.514420032501221\n",
      "4.384613037109375\n",
      "4.294860363006592\n",
      "4.056191444396973\n",
      "4.259518146514893\n",
      "4.058065414428711\n",
      "3.995424747467041\n",
      "4.288491725921631\n",
      "4.384620666503906\n",
      "4.066987991333008\n",
      "3.605776071548462\n",
      "4.096680641174316\n",
      "4.1265435218811035\n",
      "4.1239447593688965\n",
      "3.6330199241638184\n",
      "3.8764114379882812\n",
      "4.2084550857543945\n",
      "3.9777324199676514\n",
      "4.163511276245117\n",
      "3.7940778732299805\n",
      "3.8060028553009033\n",
      "4.051545143127441\n",
      "3.9208128452301025\n",
      "3.6323697566986084\n",
      "3.7512001991271973\n",
      "3.699756622314453\n",
      "3.6937360763549805\n",
      "3.8904025554656982\n",
      "3.6357922554016113\n",
      "3.728818416595459\n",
      "3.8069801330566406\n",
      "3.7676401138305664\n",
      "3.555274248123169\n",
      "3.5131561756134033\n",
      "3.6111438274383545\n",
      "3.6057446002960205\n",
      "3.452613353729248\n",
      "3.6026785373687744\n",
      "3.6235251426696777\n",
      "3.6520612239837646\n",
      "3.4619288444519043\n",
      "3.5787100791931152\n",
      "3.476388454437256\n",
      "3.654353618621826\n",
      "3.828972816467285\n",
      "3.4738755226135254\n",
      "3.587000846862793\n",
      "3.4449687004089355\n",
      "3.4330756664276123\n",
      "3.547065258026123\n",
      "3.4028308391571045\n",
      "3.392758846282959\n",
      "3.3022537231445312\n",
      "3.663621187210083\n",
      "3.460700511932373\n",
      "3.633070468902588\n",
      "3.354029893875122\n",
      "3.5574874877929688\n",
      "3.3853988647460938\n",
      "3.179619312286377\n",
      "3.4914677143096924\n",
      "3.4918010234832764\n",
      "3.5054147243499756\n",
      "3.353433132171631\n",
      "3.5500540733337402\n",
      "3.2978289127349854\n",
      "3.205960273742676\n",
      "3.367281913757324\n",
      "3.303123950958252\n",
      "3.2522974014282227\n",
      "3.1941027641296387\n",
      "3.2284438610076904\n",
      "3.1465911865234375\n",
      "3.237321615219116\n",
      "3.2282509803771973\n",
      "3.2558116912841797\n",
      "3.408489227294922\n",
      "3.50400710105896\n",
      "3.1950762271881104\n",
      "3.1947150230407715\n",
      "3.2864387035369873\n",
      "3.089392900466919\n",
      "3.213259696960449\n",
      "3.074333429336548\n",
      "3.3610243797302246\n",
      "3.3608381748199463\n",
      "3.2686960697174072\n",
      "3.023132562637329\n",
      "3.1878225803375244\n",
      "3.2786693572998047\n",
      "3.0360989570617676\n",
      "2.944596767425537\n",
      "3.2321879863739014\n",
      "3.0504140853881836\n",
      "3.1472299098968506\n",
      "2.948513984680176\n",
      "2.9042105674743652\n",
      "2.922525644302368\n",
      "2.8614439964294434\n",
      "2.98222279548645\n",
      "3.0111048221588135\n",
      "2.891549825668335\n",
      "2.98538875579834\n",
      "3.0318410396575928\n",
      "2.786454439163208\n",
      "2.981731653213501\n",
      "3.0794482231140137\n",
      "3.0284104347229004\n",
      "3.125267505645752\n",
      "2.8514323234558105\n",
      "3.03279447555542\n",
      "2.918642997741699\n",
      "3.0903377532958984\n",
      "\n"
     ]
    }
   ],
   "source": [
    "batch_size = 19\n",
    "\n",
    "o_opt = torch.optim.Adam(o_model.parameters())\n",
    "d_opt = torch.optim.Adam(d_model.parameters())\n",
    "\n",
    "o_losses, d_losses = [], []\n",
    "\n",
    "\n",
    "total_pbar = tqdm(range(200), desc='Epochs')\n",
    "game_pbar = tqdm(desc='Batch Game Simulation')\n",
    "\n",
    "for epoch in total_pbar:\n",
    "    init_game_state = random_initial_game_state(batch_size=batch_size)\n",
    "    \n",
    "    o_opt.zero_grad()\n",
    "    d_opt.zero_grad()\n",
    "    \n",
    "#     show_game_state(game_state[0].detach().numpy())\n",
    "    \n",
    "    all_game_states = run_simulation(o_model, d_model, init_game_state, with_grad=True, pbar=game_pbar)\n",
    "    \n",
    "    loss = loss_function(all_game_states)\n",
    "    loss.backward()\n",
    "    \n",
    "    o_opt.step()\n",
    "    d_opt.step()\n",
    "    \n",
    "#     show_game_state(game_state[0].detach().numpy())\n",
    "    print(loss_function(all_game_states).item())\n",
    "    o_losses.append(loss_function(all_game_states).item())\n",
    "    "
   ]
  },
  {
   "cell_type": "code",
   "execution_count": 12,
   "metadata": {},
   "outputs": [
    {
     "data": {
      "image/png": "[encoded data removed]",
      "text/plain": [
       "<Figure size 432x288 with 1 Axes>"
      ]
     },
     "metadata": {
      "needs_background": "light"
     },
     "output_type": "display_data"
    }
   ],
   "source": [
    "plt.plot(np.arange(len(o_losses)), o_losses)\n",
    "plt.show()"
   ]
  },
  {
   "cell_type": "code",
   "execution_count": 13,
   "metadata": {},
   "outputs": [
    {
     "name": "stdout",
     "output_type": "stream",
     "text": [
      "Loss:  3.0906684398651123\n"
     ]
    },
    {
     "data": {
      "image/png": "[encoded data removed]",
      "text/plain": [
       "<Figure size 576x576 with 1 Axes>"
      ]
     },
     "metadata": {
      "needs_background": "light"
     },
     "output_type": "display_data"
    }
   ],
   "source": [
    "init_game_state = random_initial_game_state(batch_size=1)\n",
    "all_game_states = run_simulation(o_model, d_model, init_game_state)\n",
    "\n",
    "print('Loss: ', loss_function(all_game_states).item())\n",
    "show_game_state(all_game_states[-1][0])\n",
    "plt.show()"
   ]
  },
  {
   "cell_type": "markdown",
   "metadata": {},
   "source": [
    "# Loss Function Visuals"
   ]
  },
  {
   "cell_type": "code",
   "execution_count": 8,
   "metadata": {},
   "outputs": [
    {
     "data": {
      "image/png": "[encoded data removed]",
      "text/plain": [
       "<Figure size 432x288 with 2 Axes>"
      ]
     },
     "metadata": {
      "needs_background": "light"
     },
     "output_type": "display_data"
    },
    {
     "data": {
      "image/png": "[encoded data removed]",
      "text/plain": [
       "<Figure size 432x288 with 2 Axes>"
      ]
     },
     "metadata": {
      "needs_background": "light"
     },
     "output_type": "display_data"
    },
    {
     "data": {
      "image/png": "[encoded data removed]",
      "text/plain": [
       "<Figure size 432x288 with 2 Axes>"
      ]
     },
     "metadata": {
      "needs_background": "light"
     },
     "output_type": "display_data"
    },
    {
     "data": {
      "image/png": "[encoded data removed]",
      "text/plain": [
       "<Figure size 432x288 with 1 Axes>"
      ]
     },
     "metadata": {
      "needs_background": "light"
     },
     "output_type": "display_data"
    },
    {
     "data": {
      "image/png": "[encoded data removed]",
      "text/plain": [
       "<Figure size 432x288 with 2 Axes>"
      ]
     },
     "metadata": {
      "needs_background": "light"
     },
     "output_type": "display_data"
    }
   ],
   "source": [
    "resolution = 30\n",
    "\n",
    "x, y = torch.meshgrid(torch.linspace(-1, 1, resolution), torch.linspace(-1,1, resolution))\n",
    "r = torch.sqrt((x-hoop_location[0])**2+(y-hoop_location[1])**2)\n",
    "ri = 1/torch.exp(r)\n",
    "theta = torch.atan2(y, x)\n",
    "\n",
    "\n",
    "\n",
    "# plt.imshow(np.log(ri), cmap='gray')\n",
    "# plt.show()\n",
    "\n",
    "accuracy = ri\n",
    "plt.imshow(accuracy, vmin=0, vmax=1)\n",
    "plt.xlabel('Y-axis')\n",
    "plt.ylabel('X-axis')\n",
    "plt.title('Accuracy')\n",
    "plt.colorbar()\n",
    "plt.show()\n",
    "\n",
    "point_scale = 2*torch.ones((resolution, resolution)) + 1 / (1 + torch.exp(-50 * (r-0.9)))\n",
    "\n",
    "plt.imshow(point_scale)\n",
    "plt.title('Point Scale')\n",
    "plt.colorbar()\n",
    "plt.show()\n",
    "\n",
    "\n",
    "plt.imshow(point_scale*accuracy)\n",
    "plt.title('Points')\n",
    "plt.colorbar()\n",
    "plt.show()\n",
    "\n",
    "\n",
    "d = torch.linspace(0, 1, 100)\n",
    "contest = 1 - torch.exp(-10*d)\n",
    "plt.plot(d, contest)\n",
    "plt.title('Accuracy Coefficient vs Closest Defender Distance')\n",
    "plt.show()\n",
    "\n",
    "\n",
    "\n",
    "r = torch.sqrt((x)**2+(y)**2)\n",
    "contest = 1 - torch.exp(-5*r)\n",
    "\n",
    "direction = (torch.cos(theta+0.5*np.pi)+13.)/14.\n",
    "\n",
    "plt.imshow(direction*contest, vmin=0, vmax=1)\n",
    "plt.colorbar()\n",
    "plt.show()\n",
    "\n",
    "\n"
   ]
  },
  {
   "cell_type": "code",
   "execution_count": null,
   "metadata": {},
   "outputs": [],
   "source": []
  }
 ],
 "metadata": {
  "kernelspec": {
   "display_name": "Python 3",
   "language": "python",
   "name": "python3"
  },
  "language_info": {
   "codemirror_mode": {
    "name": "ipython",
    "version": 3
   },
   "file_extension": ".py",
   "mimetype": "text/x-python",
   "name": "python",
   "nbconvert_exporter": "python",
   "pygments_lexer": "ipython3",
   "version": "3.7.6"
  }
 },
 "nbformat": 4,
 "nbformat_minor": 4
}
