{
 "cells": [
  {
   "cell_type": "code",
   "execution_count": 1,
   "metadata": {},
   "outputs": [
    {
     "name": "stdout",
     "output_type": "stream",
     "text": [
      "cpu\n"
     ]
    }
   ],
   "source": [
    "import numpy as np\n",
    "\n",
    "%matplotlib inline\n",
    "import matplotlib.pyplot as plt\n",
    "\n",
    "import torch\n",
    "import torch.nn\n",
    "\n",
    "from tqdm.notebook import tqdm\n",
    "\n",
    "\n",
    "device = torch.device(\"cuda\" if torch.cuda.is_available() else \"cpu\")\n",
    "dtype = torch.float\n",
    "print(device)\n",
    "\n",
    "torch.manual_seed(0)\n",
    "np.random.seed(0)"
   ]
  },
  {
   "cell_type": "code",
   "execution_count": 2,
   "metadata": {},
   "outputs": [],
   "source": [
    "hoop_location = torch.tensor([0, 0.8])\n",
    "\n",
    "o_player_idxs = torch.arange(5)\n",
    "d_player_idxs = torch.arange(5, 10)\n",
    "ball_idxs = torch.tensor([10])\n",
    "\n",
    "num_game_steps = 50\n",
    "\n",
    "\n",
    "def random_initial_game_state(batch_size, only_game_state=True):\n",
    "    opls = torch.rand(batch_size, len(o_player_idxs), 2)*2 - 1\n",
    "    dpls = torch.rand(batch_size, len(d_player_idxs), 2)*2 - 1\n",
    "    bls = torch.rand(batch_size, len(ball_idxs), 2)*2 - 1\n",
    "    \n",
    "    init_game_state = torch.cat((opls, dpls, bls), dim=1)\n",
    "    \n",
    "    if only_game_state:\n",
    "        return init_game_state\n",
    "    else:\n",
    "        return init_game_state, opls, dpls, bls"
   ]
  },
  {
   "cell_type": "markdown",
   "metadata": {},
   "source": [
    "# Game Visualization"
   ]
  },
  {
   "cell_type": "code",
   "execution_count": 3,
   "metadata": {},
   "outputs": [
    {
     "data": {
      "image/png": "[encoded data removed]",
      "text/plain": [
       "<Figure size 576x576 with 1 Axes>"
      ]
     },
     "metadata": {
      "needs_background": "light"
     },
     "output_type": "display_data"
    }
   ],
   "source": [
    "def show_game_state(game_state, ax=None):\n",
    "    if ax is None:\n",
    "        fig, ax = plt.subplots(figsize=(8,8)) # note we must use plt.subplots, not plt.subplot\n",
    "    # (or if you have an existing figure)\n",
    "#     fig = plt.gcf()\n",
    "#     ax = fig.gca()\n",
    "    \n",
    "    ax.set_xlim(-1,1)\n",
    "    ax.set_ylim(-1,1)\n",
    "    \n",
    "    for o_player in o_player_idxs.numpy():\n",
    "        x, y = game_state[o_player]\n",
    "        circle = plt.Circle((x, y), radius = 0.05, color='b')\n",
    "        ax.add_artist(circle)\n",
    "    for d_player in d_player_idxs.numpy():\n",
    "        x, y = game_state[d_player]\n",
    "        circle = plt.Circle((x, y), radius = 0.05, color='r')\n",
    "        ax.add_artist(circle)\n",
    "    for ball in ball_idxs.numpy():\n",
    "        x, y = game_state[ball]\n",
    "        circle = plt.Circle((x, y), radius = 0.04, color='orange')\n",
    "        ax.add_artist(circle)\n",
    "    \n",
    "    ax.add_artist(plt.Circle(hoop_location.numpy(), radius=0.1, color='orange', fill=False))\n",
    "    \n",
    "    ax.set_title('Game State')\n",
    "    ax.set_xlabel('X-axis')\n",
    "    ax.set_ylabel('Y-axis')\n",
    "    \n",
    "#     circle2 = plt.Circle((0.5, 0.5), 0.2, color='blue')\n",
    "#     circle3 = plt.Circle((-1, 1), 0.2, color='g', clip_on=False)\n",
    "    return ax\n",
    "#     return fig\n",
    "\n",
    "game_state = torch.rand(11, 2) * 2 - 1\n",
    "show_game_state(game_state)\n",
    "plt.show()"
   ]
  },
  {
   "cell_type": "markdown",
   "metadata": {},
   "source": [
    "# Model Definitions"
   ]
  },
  {
   "cell_type": "code",
   "execution_count": 4,
   "metadata": {},
   "outputs": [],
   "source": [
    "def get_dense_layers(num_features):\n",
    "    acts = [torch.nn.LeakyReLU() for num_out in num_features[1:-1]]\n",
    "    acts.append(torch.nn.Identity())\n",
    "    layers = []\n",
    "    for num_in, num_out, act in zip(num_features, num_features[1:], acts):\n",
    "        layers.extend((torch.nn.Linear(num_in, num_out), act))\n",
    "    return torch.nn.Sequential(*layers)\n",
    "\n",
    "class OffenseModel(torch.nn.Module):\n",
    "    def __init__(self):\n",
    "        super().__init__()\n",
    "        self.main = get_dense_layers([11*2, 100, 100, 6*2])\n",
    "    def forward(self, X):\n",
    "        X = X.view(-1, 11*2)\n",
    "        X = self.main(X)\n",
    "        X = torch.tanh(X)\n",
    "        X = X.view(-1, 6, 2)\n",
    "        return X\n",
    "    \n",
    "class DefenseModel(torch.nn.Module):\n",
    "    def __init__(self):\n",
    "        super().__init__()\n",
    "        self.main = get_dense_layers([11*2, 100, 100, 5*2])\n",
    "    def forward(self, X):\n",
    "        X = X.view(-1, 11*2)\n",
    "        X = self.main(X)\n",
    "        X = 0.1 * torch.tanh(X)\n",
    "        X = X.view(-1, 5, 2)\n",
    "        return X\n",
    "    \n",
    "o_model = OffenseModel()\n",
    "d_model = DefenseModel()\n"
   ]
  },
  {
   "cell_type": "markdown",
   "metadata": {},
   "source": [
    "# Optimization"
   ]
  },
  {
   "cell_type": "code",
   "execution_count": 5,
   "metadata": {},
   "outputs": [],
   "source": [
    "def loss_function(all_game_states):\n",
    "    loss = 0.0\n",
    "    for game_state in all_game_states:\n",
    "#         ball = game_state[:, ball_idxs] # b, 1, 2\n",
    "        ls = game_state[:, torch.cat((o_player_idxs, d_player_idxs, ball_idxs)), :]\n",
    "    \n",
    "        center = torch.tensor([0,0])[None, None, :]\n",
    "        \n",
    "        dists = ls - center\n",
    "        dists = dists.norm(dim=-1)\n",
    "        loss += dists.mean()\n",
    "#         loss = loss + dists.min(dim=-1).values.mean()\n",
    "        \n",
    "    return loss"
   ]
  },
  {
   "cell_type": "code",
   "execution_count": 6,
   "metadata": {},
   "outputs": [],
   "source": [
    "def run_simulation(o_model, d_model, init_game_state, with_grad=False, pbar=None):\n",
    "    all_game_states = [init_game_state]\n",
    "    \n",
    "    current_game_state = init_game_state\n",
    "    with torch.set_grad_enabled(with_grad):\n",
    "        \n",
    "        if pbar is not None:\n",
    "            pbar.reset(total=num_game_steps)\n",
    "        for game_step in range(num_game_steps):\n",
    "            o_move = o_model(current_game_state)\n",
    "            d_move = d_model(current_game_state)\n",
    "\n",
    "            current_game_state = current_game_state.clone()\n",
    "            current_game_state[:, torch.cat((o_player_idxs, ball_idxs)), :] += o_move\n",
    "            current_game_state[:, d_player_idxs, :] += d_move\n",
    "            current_game_state = current_game_state.clamp(-1, 1)\n",
    "\n",
    "            all_game_states.append(current_game_state)\n",
    "            if pbar is not None:\n",
    "                pbar.update()\n",
    "    return all_game_states\n",
    "        "
   ]
  },
  {
   "cell_type": "code",
   "execution_count": 7,
   "metadata": {},
   "outputs": [
    {
     "name": "stdout",
     "output_type": "stream",
     "text": [
      "Loss:  51.4874153137207\n"
     ]
    },
    {
     "data": {
      "image/png": "[encoded data removed]",
      "text/plain": [
       "<Figure size 576x576 with 1 Axes>"
      ]
     },
     "metadata": {
      "needs_background": "light"
     },
     "output_type": "display_data"
    }
   ],
   "source": [
    "init_game_state = random_initial_game_state(batch_size=1)\n",
    "all_game_states = run_simulation(o_model, d_model, init_game_state)\n",
    "\n",
    "print('Loss: ', loss_function(all_game_states).item())\n",
    "show_game_state(all_game_states[-1][0])\n",
    "plt.show()"
   ]
  },
  {
   "cell_type": "code",
   "execution_count": 8,
   "metadata": {
    "scrolled": true
   },
   "outputs": [
    {
     "data": {
      "application/vnd.jupyter.widget-view+json": {
       "model_id": "31963d025c6648158e10b6b255fc6d30",
       "version_major": 2,
       "version_minor": 0
      },
      "text/plain": [
       "HBox(children=(FloatProgress(value=0.0, description='Epochs', max=200.0, style=ProgressStyle(description_width…"
      ]
     },
     "metadata": {},
     "output_type": "display_data"
    },
    {
     "data": {
      "application/vnd.jupyter.widget-view+json": {
       "model_id": "5f3db64bba1f46dcaa1cc15c8325dca9",
       "version_major": 2,
       "version_minor": 0
      },
      "text/plain": [
       "HBox(children=(FloatProgress(value=1.0, bar_style='info', description='Batch Game Simulation', max=1.0, style=…"
      ]
     },
     "metadata": {},
     "output_type": "display_data"
    },
    {
     "name": "stdout",
     "output_type": "stream",
     "text": [
      "51.140625\n",
      "48.1497917175293\n",
      "45.563045501708984\n",
      "45.21079635620117\n",
      "41.96399688720703\n",
      "44.42365646362305\n",
      "45.49044418334961\n",
      "45.40040969848633\n",
      "42.48696517944336\n",
      "41.78529739379883\n",
      "41.19181823730469\n",
      "39.219120025634766\n",
      "38.14259719848633\n",
      "39.04716873168945\n",
      "35.78371810913086\n",
      "36.95743179321289\n",
      "36.698509216308594\n",
      "33.5389289855957\n",
      "34.57966995239258\n",
      "33.01829528808594\n",
      "31.96868896484375\n",
      "31.59624671936035\n",
      "33.04619598388672\n",
      "31.679168701171875\n",
      "30.078351974487305\n",
      "28.166128158569336\n",
      "26.489118576049805\n",
      "27.47599220275879\n",
      "27.042736053466797\n",
      "25.72494888305664\n",
      "25.646648406982422\n",
      "25.737924575805664\n",
      "24.0390567779541\n",
      "22.745210647583008\n",
      "22.253385543823242\n",
      "21.717449188232422\n",
      "20.88654327392578\n",
      "21.276119232177734\n",
      "20.75144386291504\n",
      "19.651016235351562\n",
      "19.481069564819336\n",
      "19.0407657623291\n",
      "18.287887573242188\n",
      "18.62660026550293\n",
      "18.662113189697266\n",
      "18.550617218017578\n",
      "18.00786781311035\n",
      "16.91611099243164\n",
      "16.40545654296875\n",
      "17.031648635864258\n",
      "16.36652946472168\n",
      "15.856348991394043\n",
      "15.83487606048584\n",
      "15.537358283996582\n",
      "15.771605491638184\n",
      "14.798688888549805\n",
      "14.665389060974121\n",
      "13.966863632202148\n",
      "14.33206844329834\n",
      "13.641987800598145\n",
      "13.598098754882812\n",
      "14.071497917175293\n",
      "12.753072738647461\n",
      "12.174628257751465\n",
      "11.654017448425293\n",
      "11.51918888092041\n",
      "11.978280067443848\n",
      "11.227531433105469\n",
      "11.099631309509277\n",
      "10.64544677734375\n",
      "10.381804466247559\n",
      "11.14620590209961\n",
      "9.29186725616455\n",
      "9.867003440856934\n",
      "10.302770614624023\n",
      "9.912971496582031\n",
      "9.48148250579834\n",
      "9.261452674865723\n",
      "9.35886001586914\n",
      "9.161683082580566\n",
      "8.92510986328125\n",
      "9.346631050109863\n",
      "8.48374080657959\n",
      "8.875811576843262\n",
      "8.774149894714355\n",
      "8.797780990600586\n",
      "8.595770835876465\n",
      "8.414627075195312\n",
      "7.658566474914551\n",
      "7.965839862823486\n",
      "7.619847774505615\n",
      "7.527139186859131\n",
      "7.579679489135742\n",
      "7.626270771026611\n",
      "7.531820774078369\n",
      "7.827009677886963\n",
      "7.3301100730896\n",
      "7.205483436584473\n",
      "7.142035007476807\n",
      "7.204664707183838\n",
      "6.986714839935303\n",
      "6.472994804382324\n",
      "6.750919342041016\n",
      "6.859162330627441\n",
      "6.671780586242676\n",
      "6.624593257904053\n",
      "6.579117774963379\n",
      "6.393448352813721\n",
      "6.047649383544922\n",
      "6.295469284057617\n",
      "6.393521785736084\n",
      "6.396092891693115\n",
      "6.272185325622559\n",
      "6.16167688369751\n",
      "6.135397911071777\n",
      "6.800426006317139\n",
      "5.74692440032959\n",
      "5.830831050872803\n",
      "5.77084493637085\n",
      "5.782963275909424\n",
      "5.5659637451171875\n",
      "5.952883243560791\n",
      "5.601036548614502\n",
      "5.442967414855957\n",
      "5.589858055114746\n",
      "5.534204959869385\n",
      "5.27640438079834\n",
      "5.479036331176758\n",
      "5.62577486038208\n",
      "5.350276947021484\n",
      "5.31546688079834\n",
      "5.3108601570129395\n",
      "5.212513446807861\n",
      "5.5004777908325195\n",
      "5.331442356109619\n",
      "5.2939863204956055\n",
      "5.081345081329346\n",
      "5.261996269226074\n",
      "5.1893630027771\n",
      "5.007366180419922\n",
      "4.830411434173584\n",
      "5.16009521484375\n",
      "4.920726776123047\n",
      "4.786541938781738\n",
      "5.2132391929626465\n",
      "5.134324550628662\n",
      "4.820332050323486\n",
      "4.308839321136475\n",
      "4.914170265197754\n",
      "5.039031028747559\n",
      "4.935672760009766\n",
      "4.375943660736084\n",
      "4.693792819976807\n",
      "5.074716567993164\n",
      "4.8025312423706055\n",
      "4.83979606628418\n",
      "4.666700839996338\n",
      "4.729060649871826\n",
      "4.924802780151367\n",
      "4.842581272125244\n",
      "4.323607444763184\n",
      "4.402890682220459\n",
      "4.580505847930908\n",
      "4.698107719421387\n",
      "4.805251121520996\n",
      "4.450984001159668\n",
      "4.508842945098877\n",
      "4.541152477264404\n",
      "4.667527675628662\n",
      "4.2516889572143555\n",
      "4.354099273681641\n",
      "4.4757561683654785\n",
      "4.400495529174805\n",
      "4.1496901512146\n",
      "4.453074932098389\n",
      "4.224507808685303\n",
      "4.422234058380127\n",
      "4.147169589996338\n",
      "4.363321304321289\n",
      "4.233230113983154\n",
      "4.559963226318359\n",
      "4.627240180969238\n",
      "4.117665767669678\n",
      "4.313846588134766\n",
      "4.213813304901123\n",
      "4.224706649780273\n",
      "4.441295623779297\n",
      "4.2206645011901855\n",
      "4.21599817276001\n",
      "4.088981628417969\n",
      "4.471805572509766\n",
      "4.174980163574219\n",
      "4.491847991943359\n",
      "4.101796627044678\n",
      "4.266021251678467\n",
      "4.025440692901611\n",
      "3.7976529598236084\n",
      "4.368001937866211\n",
      "4.1861090660095215\n",
      "4.199253559112549\n",
      "\n"
     ]
    }
   ],
   "source": [
    "batch_size = 19\n",
    "\n",
    "o_opt = torch.optim.Adam(o_model.parameters())\n",
    "d_opt = torch.optim.Adam(d_model.parameters())\n",
    "\n",
    "o_losses, d_losses = [], []\n",
    "\n",
    "\n",
    "total_pbar = tqdm(range(200), desc='Epochs')\n",
    "game_pbar = tqdm(desc='Batch Game Simulation')\n",
    "\n",
    "for epoch in total_pbar:\n",
    "    init_game_state = random_initial_game_state(batch_size=batch_size)\n",
    "    \n",
    "    o_opt.zero_grad()\n",
    "    d_opt.zero_grad()\n",
    "    \n",
    "#     show_game_state(game_state[0].detach().numpy())\n",
    "    \n",
    "    all_game_states = run_simulation(o_model, d_model, init_game_state, with_grad=True, pbar=game_pbar)\n",
    "    \n",
    "    loss = loss_function(all_game_states)\n",
    "    loss.backward()\n",
    "    \n",
    "    o_opt.step()\n",
    "    d_opt.step()\n",
    "    \n",
    "#     show_game_state(game_state[0].detach().numpy())\n",
    "    print(loss_function(all_game_states).item())\n",
    "    o_losses.append(loss_function(all_game_states).item())\n",
    "    "
   ]
  },
  {
   "cell_type": "code",
   "execution_count": 9,
   "metadata": {},
   "outputs": [
    {
     "data": {
      "image/png": "[encoded data removed]",
      "text/plain": [
       "<Figure size 432x288 with 1 Axes>"
      ]
     },
     "metadata": {
      "needs_background": "light"
     },
     "output_type": "display_data"
    }
   ],
   "source": [
    "plt.plot(np.arange(len(o_losses)), o_losses)\n",
    "plt.show()"
   ]
  },
  {
   "cell_type": "code",
   "execution_count": 10,
   "metadata": {},
   "outputs": [
    {
     "name": "stdout",
     "output_type": "stream",
     "text": [
      "Loss:  3.7751386165618896\n"
     ]
    },
    {
     "data": {
      "image/png": "[encoded data removed]",
      "text/plain": [
       "<Figure size 576x576 with 1 Axes>"
      ]
     },
     "metadata": {
      "needs_background": "light"
     },
     "output_type": "display_data"
    }
   ],
   "source": [
    "init_game_state = random_initial_game_state(batch_size=1)\n",
    "all_game_states = run_simulation(o_model, d_model, init_game_state)\n",
    "\n",
    "print('Loss: ', loss_function(all_game_states).item())\n",
    "show_game_state(all_game_states[-1][0])\n",
    "plt.show()"
   ]
  },
  {
   "cell_type": "markdown",
   "metadata": {},
   "source": [
    "# Loss Function Visuals"
   ]
  },
  {
   "cell_type": "code",
   "execution_count": 11,
   "metadata": {},
   "outputs": [
    {
     "data": {
      "image/png": "[encoded data removed]",
      "text/plain": [
       "<Figure size 432x288 with 2 Axes>"
      ]
     },
     "metadata": {
      "needs_background": "light"
     },
     "output_type": "display_data"
    },
    {
     "data": {
      "image/png": "[encoded data removed]",
      "text/plain": [
       "<Figure size 432x288 with 2 Axes>"
      ]
     },
     "metadata": {
      "needs_background": "light"
     },
     "output_type": "display_data"
    },
    {
     "data": {
      "image/png": "[encoded data removed]",
      "text/plain": [
       "<Figure size 432x288 with 2 Axes>"
      ]
     },
     "metadata": {
      "needs_background": "light"
     },
     "output_type": "display_data"
    },
    {
     "data": {
      "image/png": "[encoded data removed]",
      "text/plain": [
       "<Figure size 432x288 with 1 Axes>"
      ]
     },
     "metadata": {
      "needs_background": "light"
     },
     "output_type": "display_data"
    },
    {
     "data": {
      "image/png": "[encoded data removed]",
      "text/plain": [
       "<Figure size 432x288 with 2 Axes>"
      ]
     },
     "metadata": {
      "needs_background": "light"
     },
     "output_type": "display_data"
    }
   ],
   "source": [
    "resolution = 30\n",
    "\n",
    "x, y = torch.meshgrid(torch.linspace(-1, 1, resolution), torch.linspace(-1,1, resolution))\n",
    "r = torch.sqrt((x-hoop_location[0])**2+(y-hoop_location[1])**2)\n",
    "ri = 1/torch.exp(r)\n",
    "theta = torch.atan2(y, x)\n",
    "\n",
    "\n",
    "\n",
    "# plt.imshow(np.log(ri), cmap='gray')\n",
    "# plt.show()\n",
    "\n",
    "accuracy = ri\n",
    "plt.imshow(accuracy, vmin=0, vmax=1)\n",
    "plt.xlabel('Y-axis')\n",
    "plt.ylabel('X-axis')\n",
    "plt.title('Accuracy')\n",
    "plt.colorbar()\n",
    "plt.show()\n",
    "\n",
    "point_scale = 2*torch.ones((resolution, resolution)) + 1 / (1 + torch.exp(-50 * (r-0.9)))\n",
    "\n",
    "plt.imshow(point_scale)\n",
    "plt.title('Point Scale')\n",
    "plt.colorbar()\n",
    "plt.show()\n",
    "\n",
    "\n",
    "plt.imshow(point_scale*accuracy)\n",
    "plt.title('Points')\n",
    "plt.colorbar()\n",
    "plt.show()\n",
    "\n",
    "\n",
    "d = torch.linspace(0, 1, 100)\n",
    "contest = 1 - torch.exp(-10*d)\n",
    "plt.plot(d, contest)\n",
    "plt.title('Accuracy Coefficient vs Closest Defender Distance')\n",
    "plt.show()\n",
    "\n",
    "\n",
    "\n",
    "r = torch.sqrt((x)**2+(y)**2)\n",
    "contest = 1 - torch.exp(-5*r)\n",
    "\n",
    "direction = (torch.cos(theta+0.5*np.pi)+13.)/14.\n",
    "\n",
    "plt.imshow(direction*contest, vmin=0, vmax=1)\n",
    "plt.colorbar()\n",
    "plt.show()\n",
    "\n",
    "\n"
   ]
  }
 ],
 "metadata": {
  "kernelspec": {
   "display_name": "Python 3",
   "language": "python",
   "name": "python3"
  },
  "language_info": {
   "codemirror_mode": {
    "name": "ipython",
    "version": 3
   },
   "file_extension": ".py",
   "mimetype": "text/x-python",
   "name": "python",
   "nbconvert_exporter": "python",
   "pygments_lexer": "ipython3",
   "version": "3.7.6"
  }
 },
 "nbformat": 4,
 "nbformat_minor": 4
}
