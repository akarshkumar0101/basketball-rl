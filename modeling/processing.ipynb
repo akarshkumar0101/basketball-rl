{
 "cells": [
  {
   "cell_type": "code",
   "execution_count": 1,
   "id": "5663e15e-7b89-44bc-ae5b-51750e259bc1",
   "metadata": {},
   "outputs": [],
   "source": [
    "%load_ext autoreload\n",
    "%autoreload 2"
   ]
  },
  {
   "cell_type": "code",
   "execution_count": 2,
   "id": "a6b7537c-792f-47d4-9538-24bce5963377",
   "metadata": {},
   "outputs": [],
   "source": [
    "from Constant import Constant\n",
    "from Moment import Moment\n",
    "from Team import Team\n",
    "from Game import Game\n",
    "import matplotlib.pyplot as plt\n",
    "from matplotlib import animation\n",
    "from matplotlib.patches import Circle, Rectangle, Arc\n",
    "import pandas as pd\n",
    "import numpy as np\n",
    "from tqdm.notebook import tqdm\n",
    "import copy"
   ]
  },
  {
   "cell_type": "code",
   "execution_count": 3,
   "id": "1aa3b8a4-e676-48e4-9036-9a1233ff3833",
   "metadata": {},
   "outputs": [],
   "source": [
    "from collections import defaultdict\n",
    "import os"
   ]
  },
  {
   "cell_type": "code",
   "execution_count": 4,
   "id": "2a041eb0-7bb0-41fc-ab03-e1da667f4fcb",
   "metadata": {},
   "outputs": [],
   "source": [
    "import torch"
   ]
  },
  {
   "cell_type": "code",
   "execution_count": 5,
   "id": "b6c0b18d-a0f7-432f-8555-916a94d80fbf",
   "metadata": {},
   "outputs": [],
   "source": [
    "import util"
   ]
  },
  {
   "cell_type": "code",
   "execution_count": 6,
   "id": "0e2227f4-c311-4cb6-aca8-4cd95433cf09",
   "metadata": {},
   "outputs": [
    {
     "name": "stdout",
     "output_type": "stream",
     "text": [
      "loading  472\n"
     ]
    }
   ],
   "source": [
    "game = Game('data/0021500001.json')\n",
    "game.read_json()"
   ]
  },
  {
   "cell_type": "code",
   "execution_count": 7,
   "id": "fabdba37-75dc-4995-88e1-7410e3dfbd97",
   "metadata": {},
   "outputs": [],
   "source": [
    "df = pd.read_json('data/0021500001.json')"
   ]
  },
  {
   "cell_type": "code",
   "execution_count": 8,
   "id": "ae13a130-17ac-4c75-89a5-1d631c26cf78",
   "metadata": {},
   "outputs": [],
   "source": [
    "class MyGame():\n",
    "    def __init__(self, path):\n",
    "        pass"
   ]
  },
  {
   "cell_type": "code",
   "execution_count": 9,
   "id": "85701560-72fd-495a-8eac-c44beb73e952",
   "metadata": {},
   "outputs": [
    {
     "name": "stdout",
     "output_type": "stream",
     "text": [
      "Total events: 472\n",
      "Total moments: 222856\n"
     ]
    }
   ],
   "source": [
    "print(f\"Total events: {len(df)}\")\n",
    "print(f\"Total moments: {np.sum([len(df['events'][i]['moments']) for i in range(len(df['events']))])}\")\n",
    "# print(f\"moments/event: {[len(df['events'][i]['moments']) for i in range(len(df['events']))]}\")"
   ]
  },
  {
   "cell_type": "code",
   "execution_count": null,
   "id": "dec53999-e42e-4e13-aa62-4c9b3154c545",
   "metadata": {},
   "outputs": [],
   "source": []
  },
  {
   "cell_type": "code",
   "execution_count": 81,
   "id": "5ea894df-26e8-429d-b5aa-ed657a324794",
   "metadata": {},
   "outputs": [],
   "source": [
    "import data"
   ]
  },
  {
   "cell_type": "code",
   "execution_count": 96,
   "id": "e15c4dfa-bac5-4e82-85b4-3967e10ad543",
   "metadata": {},
   "outputs": [
    {
     "ename": "AttributeError",
     "evalue": "module 'data' has no attribute 'game_df2list_events'",
     "output_type": "error",
     "traceback": [
      "\u001b[0;31m---------------------------------------------------------------------------\u001b[0m",
      "\u001b[0;31mAttributeError\u001b[0m                            Traceback (most recent call last)",
      "\u001b[0;32m/tmp/ipykernel_3087/1215998916.py\u001b[0m in \u001b[0;36m<module>\u001b[0;34m\u001b[0m\n\u001b[0;32m----> 1\u001b[0;31m \u001b[0mdata\u001b[0m\u001b[0;34m.\u001b[0m\u001b[0mgame_df2list_events\u001b[0m\u001b[0;34m(\u001b[0m\u001b[0mdf\u001b[0m\u001b[0;34m,\u001b[0m \u001b[0mtqdm\u001b[0m\u001b[0;34m=\u001b[0m\u001b[0mtqdm\u001b[0m\u001b[0;34m)\u001b[0m\u001b[0;34m\u001b[0m\u001b[0;34m\u001b[0m\u001b[0m\n\u001b[0m",
      "\u001b[0;31mAttributeError\u001b[0m: module 'data' has no attribute 'game_df2list_events'"
     ]
    }
   ],
   "source": [
    "data.game_df2list_events(df, tqdm=tqdm)"
   ]
  },
  {
   "cell_type": "code",
   "execution_count": null,
   "id": "5d7c7bf4-78ab-4138-b21d-8c7e94bc121b",
   "metadata": {},
   "outputs": [],
   "source": []
  },
  {
   "cell_type": "code",
   "execution_count": null,
   "id": "660ba063-c80e-4301-a08e-ba4e191d90dd",
   "metadata": {},
   "outputs": [],
   "source": []
  },
  {
   "cell_type": "code",
   "execution_count": null,
   "id": "0b9c3612-cebd-4913-b3d7-342d40648ad6",
   "metadata": {},
   "outputs": [],
   "source": []
  },
  {
   "cell_type": "code",
   "execution_count": null,
   "id": "8f0dc695-deb1-4c04-9e07-42e48f77fd6e",
   "metadata": {},
   "outputs": [],
   "source": []
  },
  {
   "cell_type": "code",
   "execution_count": 18,
   "id": "4b826f62-3156-4bc6-80e0-76f8a0b27692",
   "metadata": {},
   "outputs": [
    {
     "data": {
      "application/vnd.jupyter.widget-view+json": {
       "model_id": "78988e451c8a4454955b717040bb07a1",
       "version_major": 2,
       "version_minor": 0
      },
      "text/plain": [
       "  0%|          | 0/504 [00:00<?, ?it/s]"
      ]
     },
     "metadata": {},
     "output_type": "display_data"
    },
    {
     "name": "stdout",
     "output_type": "stream",
     "text": [
      "Deleted 0059 (12.6%) events | 028859 (13.5%) moments\n",
      "   Kept 0410 (87.4%) events | 184232 (86.5%) moments\n",
      "\n"
     ]
    }
   ],
   "source": [
    "data = get_data(df, True)\n",
    "b = util.dict_list2list_dict(data)"
   ]
  },
  {
   "cell_type": "code",
   "execution_count": 19,
   "id": "a79c7fbc-3147-4bb6-9ba3-eb6ace355bfd",
   "metadata": {},
   "outputs": [],
   "source": []
  },
  {
   "cell_type": "code",
   "execution_count": 39,
   "id": "b8c23048-df3e-4cf9-9cf5-04e926b9952b",
   "metadata": {},
   "outputs": [
    {
     "data": {
      "application/vnd.jupyter.widget-view+json": {
       "model_id": "693b810c48754e5fb0c8df233985997d",
       "version_major": 2,
       "version_minor": 0
      },
      "text/plain": [
       "  0%|          | 0/410 [00:00<?, ?it/s]"
      ]
     },
     "metadata": {},
     "output_type": "display_data"
    },
    {
     "name": "stdout",
     "output_type": "stream",
     "text": [
      "   id_game torch.Size([329])\n",
      "   id_team torch.Size([329, 11])\n",
      " id_player torch.Size([329, 11])\n",
      "   quarter torch.Size([329])\n",
      "    t_game torch.Size([329])\n",
      "    t_shot torch.Size([329])\n",
      "         x torch.Size([329, 11, 3])\n",
      "        nx torch.Size([329, 11, 3])\n",
      "         v torch.Size([329, 11, 3])\n",
      "        nv torch.Size([329, 11, 3])\n",
      "         a torch.Size([329, 11, 3])\n",
      "        na torch.Size([329, 11, 3])\n"
     ]
    }
   ],
   "source": [
    "# ds = init_ds(games, teams, players, b[100])\n",
    "ds = [init_ds(games, teams, players, bi, mask=True) for bi in tqdm(b)]\n",
    "for key, value in ds[1].items(): print(f'{key:>10} {value.shape}')"
   ]
  },
  {
   "cell_type": "code",
   "execution_count": 41,
   "id": "4ea86a3c-b42e-4c6b-93e1-f64aa603aadb",
   "metadata": {},
   "outputs": [
    {
     "name": "stdout",
     "output_type": "stream",
     "text": [
      "Mask           mask_nan_x removes          0/       147 frames.\n",
      "Mask          mask_nan_id removes          0/       147 frames.\n",
      "Mask      mask_nan_t_shot removes          0/       147 frames.\n",
      "Mask       mask_id_change removes          0/       147 frames.\n",
      "Mask     mask_dt_game_bad removes          0/       147 frames.\n",
      "Mask     mask_dt_shot_bad removes          0/       147 frames.\n",
      "Mask      mask_speed_ball removes          0/       147 frames.\n",
      "Mask     mask_speed_human removes          0/       147 frames.\n",
      "Mask           mask_total removes          0/       147 frames.\n"
     ]
    }
   ],
   "source": [
    "init_ds(games, teams, players, b[0], mask=True, verbose=True);"
   ]
  },
  {
   "cell_type": "code",
   "execution_count": 98,
   "id": "756a9e9f-37aa-4ef2-b392-01f988c38c67",
   "metadata": {},
   "outputs": [
    {
     "data": {
      "application/vnd.jupyter.widget-view+json": {
       "model_id": "9db5ba9ff93e406daaef53c823c85d8f",
       "version_major": 2,
       "version_minor": 0
      },
      "text/plain": [
       "  0%|          | 0/7 [00:00<?, ?it/s]"
      ]
     },
     "metadata": {},
     "output_type": "display_data"
    },
    {
     "name": "stdout",
     "output_type": "stream",
     "text": [
      "Processing Game: data_small/0021500003.json\n"
     ]
    },
    {
     "data": {
      "application/vnd.jupyter.widget-view+json": {
       "model_id": "",
       "version_major": 2,
       "version_minor": 0
      },
      "text/plain": [
       "  0%|          | 0/517 [00:00<?, ?it/s]"
      ]
     },
     "metadata": {},
     "output_type": "display_data"
    },
    {
     "name": "stdout",
     "output_type": "stream",
     "text": [
      "Processing Game: data_small/0021500005.json\n"
     ]
    },
    {
     "data": {
      "application/vnd.jupyter.widget-view+json": {
       "model_id": "",
       "version_major": 2,
       "version_minor": 0
      },
      "text/plain": [
       "  0%|          | 0/491 [00:00<?, ?it/s]"
      ]
     },
     "metadata": {},
     "output_type": "display_data"
    },
    {
     "name": "stdout",
     "output_type": "stream",
     "text": [
      "Processing Game: data_small/0021500007.json\n"
     ]
    },
    {
     "data": {
      "application/vnd.jupyter.widget-view+json": {
       "model_id": "",
       "version_major": 2,
       "version_minor": 0
      },
      "text/plain": [
       "  0%|          | 0/444 [00:00<?, ?it/s]"
      ]
     },
     "metadata": {},
     "output_type": "display_data"
    },
    {
     "name": "stdout",
     "output_type": "stream",
     "text": [
      "Processing Game: data_small/0021500001.json\n"
     ]
    },
    {
     "data": {
      "application/vnd.jupyter.widget-view+json": {
       "model_id": "",
       "version_major": 2,
       "version_minor": 0
      },
      "text/plain": [
       "  0%|          | 0/472 [00:00<?, ?it/s]"
      ]
     },
     "metadata": {},
     "output_type": "display_data"
    },
    {
     "name": "stdout",
     "output_type": "stream",
     "text": [
      "Processing Game: data_small/0021500002.json\n"
     ]
    },
    {
     "data": {
      "application/vnd.jupyter.widget-view+json": {
       "model_id": "",
       "version_major": 2,
       "version_minor": 0
      },
      "text/plain": [
       "  0%|          | 0/488 [00:00<?, ?it/s]"
      ]
     },
     "metadata": {},
     "output_type": "display_data"
    },
    {
     "name": "stdout",
     "output_type": "stream",
     "text": [
      "Processing Game: data_small/0021500009.json\n"
     ]
    },
    {
     "data": {
      "application/vnd.jupyter.widget-view+json": {
       "model_id": "",
       "version_major": 2,
       "version_minor": 0
      },
      "text/plain": [
       "  0%|          | 0/519 [00:00<?, ?it/s]"
      ]
     },
     "metadata": {},
     "output_type": "display_data"
    },
    {
     "name": "stdout",
     "output_type": "stream",
     "text": [
      "Processing Game: data_small/0021500004.json\n"
     ]
    },
    {
     "data": {
      "application/vnd.jupyter.widget-view+json": {
       "model_id": "",
       "version_major": 2,
       "version_minor": 0
      },
      "text/plain": [
       "  0%|          | 0/504 [00:00<?, ?it/s]"
      ]
     },
     "metadata": {},
     "output_type": "display_data"
    }
   ],
   "source": [
    "data.process_data_dir(tqdm=tqdm)"
   ]
  },
  {
   "cell_type": "code",
   "execution_count": 123,
   "id": "ed2e3941-9370-4773-9904-c23b1b533e2d",
   "metadata": {},
   "outputs": [
    {
     "data": {
      "application/vnd.jupyter.widget-view+json": {
       "model_id": "57a7bb55920947c990b5019741ca3470",
       "version_major": 2,
       "version_minor": 0
      },
      "text/plain": [
       "  0%|          | 0/2254 [00:00<?, ?it/s]"
      ]
     },
     "metadata": {},
     "output_type": "display_data"
    },
    {
     "data": {
      "image/png": "[encoded data removed]",
      "text/plain": [
       "<Figure size 432x288 with 1 Axes>"
      ]
     },
     "metadata": {
      "needs_background": "light"
     },
     "output_type": "display_data"
    }
   ],
   "source": [
    "a = [torch.load(f'data_processed/{f}')['x'].shape[0] for f in tqdm(os.listdir('data_processed/')) if f.endswith('.pth')]\n",
    "plt.hist(a, bins=100);"
   ]
  },
  {
   "cell_type": "code",
   "execution_count": null,
   "id": "d26ba27d-4334-464d-b2df-27c59b188908",
   "metadata": {},
   "outputs": [],
   "source": []
  },
  {
   "cell_type": "code",
   "execution_count": null,
   "id": "cf1e583b-b9b2-4eb5-9dad-1c425e907883",
   "metadata": {},
   "outputs": [],
   "source": []
  },
  {
   "cell_type": "code",
   "execution_count": null,
   "id": "e2997b09-068f-4d7f-9019-d2cc6a4b95d7",
   "metadata": {},
   "outputs": [],
   "source": []
  },
  {
   "cell_type": "code",
   "execution_count": null,
   "id": "67e0ceaf-a075-418f-9193-bda2c3f396ad",
   "metadata": {},
   "outputs": [],
   "source": []
  },
  {
   "cell_type": "code",
   "execution_count": null,
   "id": "be60e02f-98f0-429f-b043-738bd1d1b9a3",
   "metadata": {},
   "outputs": [],
   "source": []
  },
  {
   "cell_type": "code",
   "execution_count": 695,
   "id": "ab859d40-33e0-4136-ad9c-13412f33ff92",
   "metadata": {},
   "outputs": [
    {
     "data": {
      "text/plain": [
       "torch.Size([196575, 11, 3])"
      ]
     },
     "execution_count": 695,
     "metadata": {},
     "output_type": "execute_result"
    }
   ],
   "source": [
    "torch.cat(util.list_dict2dict_list(ds)['x'], dim=0).shape"
   ]
  },
  {
   "cell_type": "code",
   "execution_count": 697,
   "id": "78785854-a75c-439c-87a2-f5d43ea849f6",
   "metadata": {},
   "outputs": [
    {
     "data": {
      "text/plain": [
       "torch.Size([147569, 11, 3])"
      ]
     },
     "execution_count": 697,
     "metadata": {},
     "output_type": "execute_result"
    }
   ],
   "source": [
    "torch.cat(util.list_dict2dict_list(ds)['x'], dim=0).shape"
   ]
  },
  {
   "cell_type": "code",
   "execution_count": 26,
   "id": "f0d204af-86a5-4897-9c49-3762b3a8c60f",
   "metadata": {},
   "outputs": [
    {
     "name": "stdout",
     "output_type": "stream",
     "text": [
      "Stored 'ds0' (dict)\n"
     ]
    }
   ],
   "source": [
    "ds0 = ds[0]\n",
    "%store ds0"
   ]
  },
  {
   "cell_type": "code",
   "execution_count": 27,
   "id": "f1081e38-6fef-40ec-b8a0-638f23af2cff",
   "metadata": {},
   "outputs": [
    {
     "data": {
      "text/plain": [
       "tensor([[    -1, 202696, 202699,  ..., 202322, 203078, 203490],\n",
       "        [    -1, 202696, 202699,  ..., 202322, 203078, 203490],\n",
       "        [    -1, 202696, 202699,  ..., 202322, 203078, 203490],\n",
       "        ...,\n",
       "        [    -1, 202696, 202699,  ..., 202322, 203078, 203490],\n",
       "        [    -1, 202696, 202699,  ..., 202322, 203078, 203490],\n",
       "        [    -1, 202696, 202699,  ..., 202322, 203078, 203490]])"
      ]
     },
     "execution_count": 27,
     "metadata": {},
     "output_type": "execute_result"
    }
   ],
   "source": [
    "ds0['id_player']"
   ]
  },
  {
   "cell_type": "code",
   "execution_count": 31,
   "id": "3aaa097d-9f7c-49af-8935-789ae3ec21a6",
   "metadata": {},
   "outputs": [
    {
     "data": {
      "text/plain": [
       "{'lastname': 'Porter',\n",
       " 'firstname': 'Otto',\n",
       " 'jersey': '22',\n",
       " 'position': 'F',\n",
       " 'id': 203490,\n",
       " 'ohid': 164,\n",
       " 'id_team': 1610612764}"
      ]
     },
     "execution_count": 31,
     "metadata": {},
     "output_type": "execute_result"
    }
   ],
   "source": [
    "players[203490]"
   ]
  },
  {
   "cell_type": "code",
   "execution_count": 34,
   "id": "9e2fb428-4001-4e9f-82fe-d0cbfa563bfc",
   "metadata": {},
   "outputs": [
    {
     "data": {
      "text/plain": [
       "torch.Size([147, 11, 3])"
      ]
     },
     "execution_count": 34,
     "metadata": {},
     "output_type": "execute_result"
    }
   ],
   "source": [
    "ds0['x'].shape"
   ]
  },
  {
   "cell_type": "code",
   "execution_count": null,
   "id": "69af50c1-0fa4-4199-81f9-8072083cb0f0",
   "metadata": {},
   "outputs": [],
   "source": []
  },
  {
   "cell_type": "code",
   "execution_count": null,
   "id": "8552a3fb-cee6-4fab-867c-95eaeb514d8d",
   "metadata": {},
   "outputs": [],
   "source": []
  },
  {
   "cell_type": "code",
   "execution_count": 611,
   "id": "91577d21-d758-4d64-82ed-d403d44fbd01",
   "metadata": {},
   "outputs": [
    {
     "data": {
      "text/plain": [
       "(150, 11)"
      ]
     },
     "execution_count": 611,
     "metadata": {},
     "output_type": "execute_result"
    }
   ],
   "source": [
    "b[0]['id_player'].shape"
   ]
  },
  {
   "cell_type": "code",
   "execution_count": null,
   "id": "92b940f6-2cf1-478e-b745-49cb55b4686c",
   "metadata": {},
   "outputs": [],
   "source": []
  },
  {
   "cell_type": "code",
   "execution_count": 527,
   "id": "9862134a-6eaa-4dec-99d0-66a29e3e1a06",
   "metadata": {},
   "outputs": [
    {
     "ename": "TypeError",
     "evalue": "ufunc 'isnan' not supported for the input types, and the inputs could not be safely coerced to any supported types according to the casting rule ''safe''",
     "output_type": "error",
     "traceback": [
      "\u001b[0;31m---------------------------------------------------------------------------\u001b[0m",
      "\u001b[0;31mTypeError\u001b[0m                                 Traceback (most recent call last)",
      "\u001b[0;32m/tmp/ipykernel_7926/4021861938.py\u001b[0m in \u001b[0;36m<module>\u001b[0;34m\u001b[0m\n\u001b[0;32m----> 1\u001b[0;31m \u001b[0;34m[\u001b[0m\u001b[0mnp\u001b[0m\u001b[0;34m.\u001b[0m\u001b[0misnan\u001b[0m\u001b[0;34m(\u001b[0m\u001b[0ma\u001b[0m\u001b[0;34m)\u001b[0m\u001b[0;34m.\u001b[0m\u001b[0many\u001b[0m\u001b[0;34m(\u001b[0m\u001b[0;34m)\u001b[0m \u001b[0;32mfor\u001b[0m \u001b[0ma\u001b[0m \u001b[0;32min\u001b[0m \u001b[0mdata\u001b[0m\u001b[0;34m[\u001b[0m\u001b[0;34m't_shot'\u001b[0m\u001b[0;34m]\u001b[0m\u001b[0;34m]\u001b[0m\u001b[0;34m\u001b[0m\u001b[0;34m\u001b[0m\u001b[0m\n\u001b[0m",
      "\u001b[0;32m/tmp/ipykernel_7926/4021861938.py\u001b[0m in \u001b[0;36m<listcomp>\u001b[0;34m(.0)\u001b[0m\n\u001b[0;32m----> 1\u001b[0;31m \u001b[0;34m[\u001b[0m\u001b[0mnp\u001b[0m\u001b[0;34m.\u001b[0m\u001b[0misnan\u001b[0m\u001b[0;34m(\u001b[0m\u001b[0ma\u001b[0m\u001b[0;34m)\u001b[0m\u001b[0;34m.\u001b[0m\u001b[0many\u001b[0m\u001b[0;34m(\u001b[0m\u001b[0;34m)\u001b[0m \u001b[0;32mfor\u001b[0m \u001b[0ma\u001b[0m \u001b[0;32min\u001b[0m \u001b[0mdata\u001b[0m\u001b[0;34m[\u001b[0m\u001b[0;34m't_shot'\u001b[0m\u001b[0;34m]\u001b[0m\u001b[0;34m]\u001b[0m\u001b[0;34m\u001b[0m\u001b[0;34m\u001b[0m\u001b[0m\n\u001b[0m",
      "\u001b[0;31mTypeError\u001b[0m: ufunc 'isnan' not supported for the input types, and the inputs could not be safely coerced to any supported types according to the casting rule ''safe''"
     ]
    }
   ],
   "source": [
    "[np.isnan(a).any() for a in data['t_shot']]"
   ]
  },
  {
   "cell_type": "code",
   "execution_count": null,
   "id": "98bd84ce-95fe-490f-8336-d68faa750a43",
   "metadata": {},
   "outputs": [],
   "source": []
  },
  {
   "cell_type": "code",
   "execution_count": 145,
   "id": "3888f93a-1767-4d7f-aa0e-1988fba3e960",
   "metadata": {
    "collapsed": true,
    "jupyter": {
     "outputs_hidden": true
    },
    "tags": []
   },
   "outputs": [
    {
     "data": {
      "application/vnd.jupyter.widget-view+json": {
       "model_id": "13d03ea10c664de082e2852236a20ac0",
       "version_major": 2,
       "version_minor": 0
      },
      "text/plain": [
       "  0%|          | 0/1269 [00:00<?, ?it/s]"
      ]
     },
     "metadata": {},
     "output_type": "display_data"
    },
    {
     "data": {
      "application/vnd.jupyter.widget-view+json": {
       "model_id": "611b857f5ac6410b9b91ae7c3b78926a",
       "version_major": 2,
       "version_minor": 0
      },
      "text/plain": [
       "  0%|          | 0/483 [00:00<?, ?it/s]"
      ]
     },
     "metadata": {},
     "output_type": "display_data"
    },
    {
     "name": "stdout",
     "output_type": "stream",
     "text": [
      "Dropping events: \n",
      "77/460 = 0.167\n",
      "Dropping moments: \n",
      "41653/220422 = 0.189\n",
      "\n"
     ]
    },
    {
     "data": {
      "application/vnd.jupyter.widget-view+json": {
       "model_id": "18a7062c14f94fa69dfadbb893cd2b39",
       "version_major": 2,
       "version_minor": 0
      },
      "text/plain": [
       "  0%|          | 0/451 [00:00<?, ?it/s]"
      ]
     },
     "metadata": {},
     "output_type": "display_data"
    },
    {
     "name": "stdout",
     "output_type": "stream",
     "text": [
      "Dropping events: \n",
      "52/436 = 0.119\n",
      "Dropping moments: \n",
      "22823/197949 = 0.115\n",
      "\n"
     ]
    },
    {
     "data": {
      "application/vnd.jupyter.widget-view+json": {
       "model_id": "a56597563bd346928e237ebccd963521",
       "version_major": 2,
       "version_minor": 0
      },
      "text/plain": [
       "  0%|          | 0/489 [00:00<?, ?it/s]"
      ]
     },
     "metadata": {},
     "output_type": "display_data"
    },
    {
     "name": "stdout",
     "output_type": "stream",
     "text": [
      "Dropping events: \n",
      "41/489 = 0.084\n",
      "Dropping moments: \n",
      "19865/229746 = 0.086\n",
      "\n"
     ]
    },
    {
     "data": {
      "application/vnd.jupyter.widget-view+json": {
       "model_id": "0ef6e3b655a942f7a5f1d9f16283e3c2",
       "version_major": 2,
       "version_minor": 0
      },
      "text/plain": [
       "  0%|          | 0/425 [00:00<?, ?it/s]"
      ]
     },
     "metadata": {},
     "output_type": "display_data"
    },
    {
     "name": "stdout",
     "output_type": "stream",
     "text": [
      "Dropping events: \n",
      "33/360 = 0.092\n",
      "Dropping moments: \n",
      "20968/189060 = 0.111\n",
      "\n"
     ]
    },
    {
     "data": {
      "application/vnd.jupyter.widget-view+json": {
       "model_id": "be81d0d8ef9f4ec0b3b03101a1ab4845",
       "version_major": 2,
       "version_minor": 0
      },
      "text/plain": [
       "  0%|          | 0/432 [00:00<?, ?it/s]"
      ]
     },
     "metadata": {},
     "output_type": "display_data"
    },
    {
     "name": "stdout",
     "output_type": "stream",
     "text": [
      "Dropping events: \n",
      "45/427 = 0.105\n",
      "Dropping moments: \n",
      "23545/210094 = 0.112\n",
      "\n"
     ]
    },
    {
     "data": {
      "application/vnd.jupyter.widget-view+json": {
       "model_id": "f3aee550edb14cba89589ce63b513e49",
       "version_major": 2,
       "version_minor": 0
      },
      "text/plain": [
       "  0%|          | 0/418 [00:00<?, ?it/s]"
      ]
     },
     "metadata": {},
     "output_type": "display_data"
    },
    {
     "name": "stdout",
     "output_type": "stream",
     "text": [
      "Dropping events: \n",
      "31/376 = 0.082\n",
      "Dropping moments: \n",
      "14394/173861 = 0.083\n",
      "\n"
     ]
    },
    {
     "data": {
      "application/vnd.jupyter.widget-view+json": {
       "model_id": "a85834445ad444239bde68290cda3f52",
       "version_major": 2,
       "version_minor": 0
      },
      "text/plain": [
       "  0%|          | 0/466 [00:00<?, ?it/s]"
      ]
     },
     "metadata": {},
     "output_type": "display_data"
    },
    {
     "name": "stdout",
     "output_type": "stream",
     "text": [
      "Dropping events: \n",
      "54/466 = 0.116\n",
      "Dropping moments: \n",
      "23569/219929 = 0.107\n",
      "\n"
     ]
    },
    {
     "data": {
      "application/vnd.jupyter.widget-view+json": {
       "model_id": "d30bca200a454c098dbed03b3bf9e0fb",
       "version_major": 2,
       "version_minor": 0
      },
      "text/plain": [
       "  0%|          | 0/428 [00:00<?, ?it/s]"
      ]
     },
     "metadata": {},
     "output_type": "display_data"
    },
    {
     "name": "stdout",
     "output_type": "stream",
     "text": [
      "Dropping events: \n",
      "29/403 = 0.072\n",
      "Dropping moments: \n",
      "14084/183861 = 0.077\n",
      "\n"
     ]
    },
    {
     "data": {
      "application/vnd.jupyter.widget-view+json": {
       "model_id": "cc2e4e1211f4440195fd0128836bb6a9",
       "version_major": 2,
       "version_minor": 0
      },
      "text/plain": [
       "  0%|          | 0/467 [00:00<?, ?it/s]"
      ]
     },
     "metadata": {},
     "output_type": "display_data"
    },
    {
     "name": "stdout",
     "output_type": "stream",
     "text": [
      "Dropping events: \n",
      "31/394 = 0.079\n",
      "Dropping moments: \n",
      "12656/170942 = 0.074\n",
      "\n"
     ]
    },
    {
     "data": {
      "application/vnd.jupyter.widget-view+json": {
       "model_id": "96c002a18c9945f6b68980ca146b8b7f",
       "version_major": 2,
       "version_minor": 0
      },
      "text/plain": [
       "  0%|          | 0/531 [00:00<?, ?it/s]"
      ]
     },
     "metadata": {},
     "output_type": "display_data"
    },
    {
     "name": "stdout",
     "output_type": "stream",
     "text": [
      "Dropping events: \n",
      "103/518 = 0.199\n",
      "Dropping moments: \n",
      "49130/234904 = 0.209\n",
      "\n"
     ]
    },
    {
     "data": {
      "application/vnd.jupyter.widget-view+json": {
       "model_id": "a907d5eab60d4d82a615994ec617256e",
       "version_major": 2,
       "version_minor": 0
      },
      "text/plain": [
       "  0%|          | 0/481 [00:00<?, ?it/s]"
      ]
     },
     "metadata": {},
     "output_type": "display_data"
    },
    {
     "name": "stdout",
     "output_type": "stream",
     "text": [
      "Dropping events: \n",
      "138/478 = 0.289\n",
      "Dropping moments: \n",
      "87495/253911 = 0.345\n",
      "\n"
     ]
    },
    {
     "data": {
      "application/vnd.jupyter.widget-view+json": {
       "model_id": "e6f6bc24d0b548ca8249ba4a88d17a7e",
       "version_major": 2,
       "version_minor": 0
      },
      "text/plain": [
       "  0%|          | 0/497 [00:00<?, ?it/s]"
      ]
     },
     "metadata": {},
     "output_type": "display_data"
    },
    {
     "name": "stdout",
     "output_type": "stream",
     "text": [
      "Dropping events: \n",
      "93/486 = 0.191\n",
      "Dropping moments: \n",
      "45626/205808 = 0.222\n",
      "\n"
     ]
    },
    {
     "data": {
      "application/vnd.jupyter.widget-view+json": {
       "model_id": "36e8779e90c8404fa2ef421edcdefc28",
       "version_major": 2,
       "version_minor": 0
      },
      "text/plain": [
       "  0%|          | 0/419 [00:00<?, ?it/s]"
      ]
     },
     "metadata": {},
     "output_type": "display_data"
    },
    {
     "name": "stdout",
     "output_type": "stream",
     "text": [
      "Dropping events: \n",
      "128/391 = 0.327\n",
      "Dropping moments: \n",
      "65365/188624 = 0.347\n",
      "\n"
     ]
    },
    {
     "data": {
      "application/vnd.jupyter.widget-view+json": {
       "model_id": "6fe06fb80be64ecc929095e0c03cffee",
       "version_major": 2,
       "version_minor": 0
      },
      "text/plain": [
       "  0%|          | 0/445 [00:00<?, ?it/s]"
      ]
     },
     "metadata": {},
     "output_type": "display_data"
    },
    {
     "name": "stdout",
     "output_type": "stream",
     "text": [
      "Dropping events: \n",
      "82/441 = 0.186\n",
      "Dropping moments: \n",
      "62588/247331 = 0.253\n",
      "\n"
     ]
    },
    {
     "data": {
      "application/vnd.jupyter.widget-view+json": {
       "model_id": "ab9ceaa407e24e1faa4621f841a737c6",
       "version_major": 2,
       "version_minor": 0
      },
      "text/plain": [
       "  0%|          | 0/438 [00:00<?, ?it/s]"
      ]
     },
     "metadata": {},
     "output_type": "display_data"
    },
    {
     "name": "stdout",
     "output_type": "stream",
     "text": [
      "Dropping events: \n",
      "76/422 = 0.180\n",
      "Dropping moments: \n",
      "41077/209767 = 0.196\n",
      "\n"
     ]
    },
    {
     "data": {
      "application/vnd.jupyter.widget-view+json": {
       "model_id": "f405f77bfa2f4c698727158ef90e2935",
       "version_major": 2,
       "version_minor": 0
      },
      "text/plain": [
       "  0%|          | 0/466 [00:00<?, ?it/s]"
      ]
     },
     "metadata": {},
     "output_type": "display_data"
    },
    {
     "name": "stdout",
     "output_type": "stream",
     "text": [
      "Dropping events: \n",
      "62/460 = 0.135\n",
      "Dropping moments: \n",
      "33454/209694 = 0.160\n",
      "\n"
     ]
    },
    {
     "data": {
      "application/vnd.jupyter.widget-view+json": {
       "model_id": "d5cf8360cf074115b379a061cf9f99aa",
       "version_major": 2,
       "version_minor": 0
      },
      "text/plain": [
       "  0%|          | 0/500 [00:00<?, ?it/s]"
      ]
     },
     "metadata": {},
     "output_type": "display_data"
    },
    {
     "name": "stdout",
     "output_type": "stream",
     "text": [
      "Dropping events: \n",
      "47/472 = 0.100\n",
      "Dropping moments: \n",
      "23174/222594 = 0.104\n",
      "\n"
     ]
    },
    {
     "data": {
      "application/vnd.jupyter.widget-view+json": {
       "model_id": "a27951a5e12f465796badf30cd747014",
       "version_major": 2,
       "version_minor": 0
      },
      "text/plain": [
       "  0%|          | 0/443 [00:00<?, ?it/s]"
      ]
     },
     "metadata": {},
     "output_type": "display_data"
    },
    {
     "name": "stdout",
     "output_type": "stream",
     "text": [
      "Dropping events: \n",
      "49/422 = 0.116\n",
      "Dropping moments: \n",
      "30625/214522 = 0.143\n",
      "\n"
     ]
    },
    {
     "data": {
      "application/vnd.jupyter.widget-view+json": {
       "model_id": "dde3d2620c5e49aa8da310eebf0f2dff",
       "version_major": 2,
       "version_minor": 0
      },
      "text/plain": [
       "  0%|          | 0/473 [00:00<?, ?it/s]"
      ]
     },
     "metadata": {},
     "output_type": "display_data"
    },
    {
     "name": "stdout",
     "output_type": "stream",
     "text": [
      "Dropping events: \n",
      "50/463 = 0.108\n",
      "Dropping moments: \n",
      "27196/210216 = 0.129\n",
      "\n"
     ]
    },
    {
     "data": {
      "application/vnd.jupyter.widget-view+json": {
       "model_id": "0750b6a4b1714350bf1ae941cda762b5",
       "version_major": 2,
       "version_minor": 0
      },
      "text/plain": [
       "  0%|          | 0/462 [00:00<?, ?it/s]"
      ]
     },
     "metadata": {},
     "output_type": "display_data"
    },
    {
     "name": "stdout",
     "output_type": "stream",
     "text": [
      "Dropping events: \n",
      "38/456 = 0.083\n",
      "Dropping moments: \n",
      "22634/228097 = 0.099\n",
      "\n"
     ]
    },
    {
     "data": {
      "application/vnd.jupyter.widget-view+json": {
       "model_id": "09f86a2a2e18491c835cdb6f1bf09f43",
       "version_major": 2,
       "version_minor": 0
      },
      "text/plain": [
       "  0%|          | 0/473 [00:00<?, ?it/s]"
      ]
     },
     "metadata": {},
     "output_type": "display_data"
    },
    {
     "name": "stdout",
     "output_type": "stream",
     "text": [
      "Dropping events: \n",
      "26/395 = 0.066\n",
      "Dropping moments: \n",
      "13326/164192 = 0.081\n",
      "\n"
     ]
    },
    {
     "data": {
      "application/vnd.jupyter.widget-view+json": {
       "model_id": "567948d744514227aea0c641092eb706",
       "version_major": 2,
       "version_minor": 0
      },
      "text/plain": [
       "  0%|          | 0/444 [00:00<?, ?it/s]"
      ]
     },
     "metadata": {},
     "output_type": "display_data"
    },
    {
     "name": "stdout",
     "output_type": "stream",
     "text": [
      "Dropping events: \n",
      "31/411 = 0.075\n",
      "Dropping moments: \n",
      "17423/200177 = 0.087\n",
      "\n"
     ]
    },
    {
     "data": {
      "application/vnd.jupyter.widget-view+json": {
       "model_id": "94d835549deb4949a9cfde879f10a1dd",
       "version_major": 2,
       "version_minor": 0
      },
      "text/plain": [
       "  0%|          | 0/454 [00:00<?, ?it/s]"
      ]
     },
     "metadata": {},
     "output_type": "display_data"
    },
    {
     "name": "stdout",
     "output_type": "stream",
     "text": [
      "Dropping events: \n",
      "84/453 = 0.185\n",
      "Dropping moments: \n",
      "53575/238397 = 0.225\n",
      "\n"
     ]
    },
    {
     "data": {
      "application/vnd.jupyter.widget-view+json": {
       "model_id": "0e1b8f2917d148f7b3a10a9174033bff",
       "version_major": 2,
       "version_minor": 0
      },
      "text/plain": [
       "  0%|          | 0/482 [00:00<?, ?it/s]"
      ]
     },
     "metadata": {},
     "output_type": "display_data"
    },
    {
     "name": "stdout",
     "output_type": "stream",
     "text": [
      "Dropping events: \n",
      "85/427 = 0.199\n",
      "Dropping moments: \n",
      "43868/185729 = 0.236\n",
      "\n"
     ]
    },
    {
     "data": {
      "application/vnd.jupyter.widget-view+json": {
       "model_id": "f6098e81c8d645b0bb472c85bd6a2ab7",
       "version_major": 2,
       "version_minor": 0
      },
      "text/plain": [
       "  0%|          | 0/485 [00:00<?, ?it/s]"
      ]
     },
     "metadata": {},
     "output_type": "display_data"
    },
    {
     "name": "stdout",
     "output_type": "stream",
     "text": [
      "Dropping events: \n",
      "107/484 = 0.221\n",
      "Dropping moments: \n",
      "51995/214040 = 0.243\n",
      "\n"
     ]
    },
    {
     "data": {
      "application/vnd.jupyter.widget-view+json": {
       "model_id": "29fb0c7146e64a149ce3b99950375e66",
       "version_major": 2,
       "version_minor": 0
      },
      "text/plain": [
       "  0%|          | 0/451 [00:00<?, ?it/s]"
      ]
     },
     "metadata": {},
     "output_type": "display_data"
    },
    {
     "name": "stdout",
     "output_type": "stream",
     "text": [
      "Dropping events: \n",
      "58/419 = 0.138\n",
      "Dropping moments: \n",
      "30203/183479 = 0.165\n",
      "\n"
     ]
    },
    {
     "data": {
      "application/vnd.jupyter.widget-view+json": {
       "model_id": "02af2bc03f2e423b9c6dd5ccea61d3e4",
       "version_major": 2,
       "version_minor": 0
      },
      "text/plain": [
       "  0%|          | 0/451 [00:00<?, ?it/s]"
      ]
     },
     "metadata": {},
     "output_type": "display_data"
    },
    {
     "name": "stdout",
     "output_type": "stream",
     "text": [
      "Dropping events: \n",
      "103/449 = 0.229\n",
      "Dropping moments: \n",
      "52932/220018 = 0.241\n",
      "\n"
     ]
    },
    {
     "data": {
      "application/vnd.jupyter.widget-view+json": {
       "model_id": "0448751b29ea41ea82fd26cdb0437ec9",
       "version_major": 2,
       "version_minor": 0
      },
      "text/plain": [
       "  0%|          | 0/443 [00:00<?, ?it/s]"
      ]
     },
     "metadata": {},
     "output_type": "display_data"
    },
    {
     "name": "stdout",
     "output_type": "stream",
     "text": [
      "Dropping events: \n",
      "43/343 = 0.125\n",
      "Dropping moments: \n",
      "26065/165626 = 0.157\n",
      "\n"
     ]
    },
    {
     "data": {
      "application/vnd.jupyter.widget-view+json": {
       "model_id": "37dd4d31376f48da81f5d8ca3c00beb6",
       "version_major": 2,
       "version_minor": 0
      },
      "text/plain": [
       "  0%|          | 0/506 [00:00<?, ?it/s]"
      ]
     },
     "metadata": {},
     "output_type": "display_data"
    },
    {
     "name": "stdout",
     "output_type": "stream",
     "text": [
      "Dropping events: \n",
      "90/496 = 0.181\n",
      "Dropping moments: \n",
      "51266/227133 = 0.226\n",
      "\n"
     ]
    },
    {
     "data": {
      "application/vnd.jupyter.widget-view+json": {
       "model_id": "4c8a1721d75649bd866f679c59c9f485",
       "version_major": 2,
       "version_minor": 0
      },
      "text/plain": [
       "  0%|          | 0/476 [00:00<?, ?it/s]"
      ]
     },
     "metadata": {},
     "output_type": "display_data"
    },
    {
     "name": "stdout",
     "output_type": "stream",
     "text": [
      "Dropping events: \n",
      "41/403 = 0.102\n",
      "Dropping moments: \n",
      "22485/192858 = 0.117\n",
      "\n"
     ]
    },
    {
     "data": {
      "application/vnd.jupyter.widget-view+json": {
       "model_id": "ac8e57e106ef46609ab158aa3c7446da",
       "version_major": 2,
       "version_minor": 0
      },
      "text/plain": [
       "  0%|          | 0/483 [00:00<?, ?it/s]"
      ]
     },
     "metadata": {},
     "output_type": "display_data"
    },
    {
     "name": "stdout",
     "output_type": "stream",
     "text": [
      "Dropping events: \n",
      "68/457 = 0.149\n",
      "Dropping moments: \n",
      "32829/213951 = 0.153\n",
      "\n"
     ]
    },
    {
     "data": {
      "application/vnd.jupyter.widget-view+json": {
       "model_id": "af048c12e7544e4ea0501a636ce8c3a3",
       "version_major": 2,
       "version_minor": 0
      },
      "text/plain": [
       "  0%|          | 0/432 [00:00<?, ?it/s]"
      ]
     },
     "metadata": {},
     "output_type": "display_data"
    },
    {
     "name": "stdout",
     "output_type": "stream",
     "text": [
      "Dropping events: \n",
      "59/421 = 0.140\n",
      "Dropping moments: \n",
      "31147/181675 = 0.171\n",
      "\n"
     ]
    },
    {
     "ename": "KeyboardInterrupt",
     "evalue": "",
     "output_type": "error",
     "traceback": [
      "\u001b[0;31m---------------------------------------------------------------------------\u001b[0m",
      "\u001b[0;31mKeyboardInterrupt\u001b[0m                         Traceback (most recent call last)",
      "\u001b[0;32m/work/08258/akumar01/maverick2/miniconda3/lib/python3.9/site-packages/pandas/io/json/_json.py\u001b[0m in \u001b[0;36mread_json\u001b[0;34m(path_or_buf, orient, typ, dtype, convert_axes, convert_dates, keep_default_dates, numpy, precise_float, date_unit, encoding, encoding_errors, lines, chunksize, compression, nrows, storage_options)\u001b[0m\n\u001b[1;32m    613\u001b[0m     \u001b[0;32mwith\u001b[0m \u001b[0mjson_reader\u001b[0m\u001b[0;34m:\u001b[0m\u001b[0;34m\u001b[0m\u001b[0;34m\u001b[0m\u001b[0m\n\u001b[0;32m--> 614\u001b[0;31m         \u001b[0;32mreturn\u001b[0m \u001b[0mjson_reader\u001b[0m\u001b[0;34m.\u001b[0m\u001b[0mread\u001b[0m\u001b[0;34m(\u001b[0m\u001b[0;34m)\u001b[0m\u001b[0;34m\u001b[0m\u001b[0;34m\u001b[0m\u001b[0m\n\u001b[0m\u001b[1;32m    615\u001b[0m \u001b[0;34m\u001b[0m\u001b[0m\n",
      "\u001b[0;32m/work/08258/akumar01/maverick2/miniconda3/lib/python3.9/site-packages/pandas/io/json/_json.py\u001b[0m in \u001b[0;36mread\u001b[0;34m(self)\u001b[0m\n\u001b[1;32m    747\u001b[0m         \u001b[0;32melse\u001b[0m\u001b[0;34m:\u001b[0m\u001b[0;34m\u001b[0m\u001b[0;34m\u001b[0m\u001b[0m\n\u001b[0;32m--> 748\u001b[0;31m             \u001b[0mobj\u001b[0m \u001b[0;34m=\u001b[0m \u001b[0mself\u001b[0m\u001b[0;34m.\u001b[0m\u001b[0m_get_object_parser\u001b[0m\u001b[0;34m(\u001b[0m\u001b[0mself\u001b[0m\u001b[0;34m.\u001b[0m\u001b[0mdata\u001b[0m\u001b[0;34m)\u001b[0m\u001b[0;34m\u001b[0m\u001b[0;34m\u001b[0m\u001b[0m\n\u001b[0m\u001b[1;32m    749\u001b[0m         \u001b[0mself\u001b[0m\u001b[0;34m.\u001b[0m\u001b[0mclose\u001b[0m\u001b[0;34m(\u001b[0m\u001b[0;34m)\u001b[0m\u001b[0;34m\u001b[0m\u001b[0;34m\u001b[0m\u001b[0m\n",
      "\u001b[0;32m/work/08258/akumar01/maverick2/miniconda3/lib/python3.9/site-packages/pandas/io/json/_json.py\u001b[0m in \u001b[0;36m_get_object_parser\u001b[0;34m(self, json)\u001b[0m\n\u001b[1;32m    769\u001b[0m         \u001b[0;32mif\u001b[0m \u001b[0mtyp\u001b[0m \u001b[0;34m==\u001b[0m \u001b[0;34m\"frame\"\u001b[0m\u001b[0;34m:\u001b[0m\u001b[0;34m\u001b[0m\u001b[0;34m\u001b[0m\u001b[0m\n\u001b[0;32m--> 770\u001b[0;31m             \u001b[0mobj\u001b[0m \u001b[0;34m=\u001b[0m \u001b[0mFrameParser\u001b[0m\u001b[0;34m(\u001b[0m\u001b[0mjson\u001b[0m\u001b[0;34m,\u001b[0m \u001b[0;34m**\u001b[0m\u001b[0mkwargs\u001b[0m\u001b[0;34m)\u001b[0m\u001b[0;34m.\u001b[0m\u001b[0mparse\u001b[0m\u001b[0;34m(\u001b[0m\u001b[0;34m)\u001b[0m\u001b[0;34m\u001b[0m\u001b[0;34m\u001b[0m\u001b[0m\n\u001b[0m\u001b[1;32m    771\u001b[0m \u001b[0;34m\u001b[0m\u001b[0m\n",
      "\u001b[0;32m/work/08258/akumar01/maverick2/miniconda3/lib/python3.9/site-packages/pandas/io/json/_json.py\u001b[0m in \u001b[0;36mparse\u001b[0;34m(self)\u001b[0m\n\u001b[1;32m    884\u001b[0m         \u001b[0;32melse\u001b[0m\u001b[0;34m:\u001b[0m\u001b[0;34m\u001b[0m\u001b[0;34m\u001b[0m\u001b[0m\n\u001b[0;32m--> 885\u001b[0;31m             \u001b[0mself\u001b[0m\u001b[0;34m.\u001b[0m\u001b[0m_parse_no_numpy\u001b[0m\u001b[0;34m(\u001b[0m\u001b[0;34m)\u001b[0m\u001b[0;34m\u001b[0m\u001b[0;34m\u001b[0m\u001b[0m\n\u001b[0m\u001b[1;32m    886\u001b[0m \u001b[0;34m\u001b[0m\u001b[0m\n",
      "\u001b[0;32m/work/08258/akumar01/maverick2/miniconda3/lib/python3.9/site-packages/pandas/io/json/_json.py\u001b[0m in \u001b[0;36m_parse_no_numpy\u001b[0;34m(self)\u001b[0m\n\u001b[1;32m   1139\u001b[0m             self.obj = DataFrame(\n\u001b[0;32m-> 1140\u001b[0;31m                 \u001b[0mloads\u001b[0m\u001b[0;34m(\u001b[0m\u001b[0mjson\u001b[0m\u001b[0;34m,\u001b[0m \u001b[0mprecise_float\u001b[0m\u001b[0;34m=\u001b[0m\u001b[0mself\u001b[0m\u001b[0;34m.\u001b[0m\u001b[0mprecise_float\u001b[0m\u001b[0;34m)\u001b[0m\u001b[0;34m,\u001b[0m \u001b[0mdtype\u001b[0m\u001b[0;34m=\u001b[0m\u001b[0;32mNone\u001b[0m\u001b[0;34m\u001b[0m\u001b[0;34m\u001b[0m\u001b[0m\n\u001b[0m\u001b[1;32m   1141\u001b[0m             )\n",
      "\u001b[0;31mKeyboardInterrupt\u001b[0m: ",
      "\nDuring handling of the above exception, another exception occurred:\n",
      "\u001b[0;31mKeyboardInterrupt\u001b[0m                         Traceback (most recent call last)",
      "\u001b[0;32m/tmp/ipykernel_7926/458214863.py\u001b[0m in \u001b[0;36m<module>\u001b[0;34m\u001b[0m\n\u001b[1;32m      3\u001b[0m         \u001b[0;32mcontinue\u001b[0m\u001b[0;34m\u001b[0m\u001b[0;34m\u001b[0m\u001b[0m\n\u001b[1;32m      4\u001b[0m \u001b[0;34m\u001b[0m\u001b[0m\n\u001b[0;32m----> 5\u001b[0;31m     \u001b[0mdf\u001b[0m \u001b[0;34m=\u001b[0m \u001b[0mpd\u001b[0m\u001b[0;34m.\u001b[0m\u001b[0mread_json\u001b[0m\u001b[0;34m(\u001b[0m\u001b[0;34m'data/'\u001b[0m\u001b[0;34m+\u001b[0m\u001b[0mpath\u001b[0m\u001b[0;34m)\u001b[0m\u001b[0;34m\u001b[0m\u001b[0;34m\u001b[0m\u001b[0m\n\u001b[0m\u001b[1;32m      6\u001b[0m \u001b[0;34m\u001b[0m\u001b[0m\n\u001b[1;32m      7\u001b[0m     \u001b[0mdata\u001b[0m \u001b[0;34m=\u001b[0m \u001b[0mget_data\u001b[0m\u001b[0;34m(\u001b[0m\u001b[0mdf\u001b[0m\u001b[0;34m)\u001b[0m\u001b[0;34m\u001b[0m\u001b[0;34m\u001b[0m\u001b[0m\n",
      "\u001b[0;32m/work/08258/akumar01/maverick2/miniconda3/lib/python3.9/site-packages/pandas/util/_decorators.py\u001b[0m in \u001b[0;36mwrapper\u001b[0;34m(*args, **kwargs)\u001b[0m\n\u001b[1;32m    205\u001b[0m                 \u001b[0;32melse\u001b[0m\u001b[0;34m:\u001b[0m\u001b[0;34m\u001b[0m\u001b[0;34m\u001b[0m\u001b[0m\n\u001b[1;32m    206\u001b[0m                     \u001b[0mkwargs\u001b[0m\u001b[0;34m[\u001b[0m\u001b[0mnew_arg_name\u001b[0m\u001b[0;34m]\u001b[0m \u001b[0;34m=\u001b[0m \u001b[0mnew_arg_value\u001b[0m\u001b[0;34m\u001b[0m\u001b[0;34m\u001b[0m\u001b[0m\n\u001b[0;32m--> 207\u001b[0;31m             \u001b[0;32mreturn\u001b[0m \u001b[0mfunc\u001b[0m\u001b[0;34m(\u001b[0m\u001b[0;34m*\u001b[0m\u001b[0margs\u001b[0m\u001b[0;34m,\u001b[0m \u001b[0;34m**\u001b[0m\u001b[0mkwargs\u001b[0m\u001b[0;34m)\u001b[0m\u001b[0;34m\u001b[0m\u001b[0;34m\u001b[0m\u001b[0m\n\u001b[0m\u001b[1;32m    208\u001b[0m \u001b[0;34m\u001b[0m\u001b[0m\n\u001b[1;32m    209\u001b[0m         \u001b[0;32mreturn\u001b[0m \u001b[0mcast\u001b[0m\u001b[0;34m(\u001b[0m\u001b[0mF\u001b[0m\u001b[0;34m,\u001b[0m \u001b[0mwrapper\u001b[0m\u001b[0;34m)\u001b[0m\u001b[0;34m\u001b[0m\u001b[0;34m\u001b[0m\u001b[0m\n",
      "\u001b[0;32m/work/08258/akumar01/maverick2/miniconda3/lib/python3.9/site-packages/pandas/util/_decorators.py\u001b[0m in \u001b[0;36mwrapper\u001b[0;34m(*args, **kwargs)\u001b[0m\n\u001b[1;32m    309\u001b[0m                     \u001b[0mstacklevel\u001b[0m\u001b[0;34m=\u001b[0m\u001b[0mstacklevel\u001b[0m\u001b[0;34m,\u001b[0m\u001b[0;34m\u001b[0m\u001b[0;34m\u001b[0m\u001b[0m\n\u001b[1;32m    310\u001b[0m                 )\n\u001b[0;32m--> 311\u001b[0;31m             \u001b[0;32mreturn\u001b[0m \u001b[0mfunc\u001b[0m\u001b[0;34m(\u001b[0m\u001b[0;34m*\u001b[0m\u001b[0margs\u001b[0m\u001b[0;34m,\u001b[0m \u001b[0;34m**\u001b[0m\u001b[0mkwargs\u001b[0m\u001b[0;34m)\u001b[0m\u001b[0;34m\u001b[0m\u001b[0;34m\u001b[0m\u001b[0m\n\u001b[0m\u001b[1;32m    312\u001b[0m \u001b[0;34m\u001b[0m\u001b[0m\n\u001b[1;32m    313\u001b[0m         \u001b[0;32mreturn\u001b[0m \u001b[0mwrapper\u001b[0m\u001b[0;34m\u001b[0m\u001b[0;34m\u001b[0m\u001b[0m\n",
      "\u001b[0;32m/work/08258/akumar01/maverick2/miniconda3/lib/python3.9/site-packages/pandas/io/json/_json.py\u001b[0m in \u001b[0;36mread_json\u001b[0;34m(path_or_buf, orient, typ, dtype, convert_axes, convert_dates, keep_default_dates, numpy, precise_float, date_unit, encoding, encoding_errors, lines, chunksize, compression, nrows, storage_options)\u001b[0m\n\u001b[1;32m    612\u001b[0m \u001b[0;34m\u001b[0m\u001b[0m\n\u001b[1;32m    613\u001b[0m     \u001b[0;32mwith\u001b[0m \u001b[0mjson_reader\u001b[0m\u001b[0;34m:\u001b[0m\u001b[0;34m\u001b[0m\u001b[0;34m\u001b[0m\u001b[0m\n\u001b[0;32m--> 614\u001b[0;31m         \u001b[0;32mreturn\u001b[0m \u001b[0mjson_reader\u001b[0m\u001b[0;34m.\u001b[0m\u001b[0mread\u001b[0m\u001b[0;34m(\u001b[0m\u001b[0;34m)\u001b[0m\u001b[0;34m\u001b[0m\u001b[0;34m\u001b[0m\u001b[0m\n\u001b[0m\u001b[1;32m    615\u001b[0m \u001b[0;34m\u001b[0m\u001b[0m\n\u001b[1;32m    616\u001b[0m \u001b[0;34m\u001b[0m\u001b[0m\n",
      "\u001b[0;31mKeyboardInterrupt\u001b[0m: "
     ]
    }
   ],
   "source": [
    "for path in tqdm(os.listdir('data')):\n",
    "    if not path.endswith('.json'):\n",
    "        continue\n",
    "        \n",
    "    df = pd.read_json('data/'+path)\n",
    "\n",
    "    data = get_data(df)\n",
    "    event_mask = np.array([np.isnan(a).any() for a in data['x']])\n",
    "    event_lengths = np.array([a.shape[0] for a in data['x']])\n",
    "\n",
    "    print('Dropping events: ')\n",
    "    print(f'{event_mask.sum()}/{len(event_mask)} = {event_mask.sum()/len(event_mask):0.03f}')\n",
    "    print('Dropping moments: ')\n",
    "    print(f'{event_lengths[event_mask].sum()}/{event_lengths.sum()} = {event_lengths[event_mask].sum()/event_lengths.sum():0.03f}')\n",
    "    print()\n",
    "\n"
   ]
  },
  {
   "cell_type": "code",
   "execution_count": 148,
   "id": "339d7ba6-1f16-4b84-86d0-e95a278790e0",
   "metadata": {},
   "outputs": [
    {
     "data": {
      "text/plain": [
       "431.53206650831356"
      ]
     },
     "execution_count": 148,
     "metadata": {},
     "output_type": "execute_result"
    }
   ],
   "source": [
    "np.mean([len(event) for event in data['x']])"
   ]
  },
  {
   "cell_type": "code",
   "execution_count": null,
   "id": "bc77ed6c-b8d0-4982-b207-b2215092845f",
   "metadata": {},
   "outputs": [],
   "source": []
  },
  {
   "cell_type": "code",
   "execution_count": 85,
   "id": "565bf028-1668-4a06-a048-b3d14d638926",
   "metadata": {},
   "outputs": [
    {
     "name": "stdout",
     "output_type": "stream",
     "text": [
      "423/472 =  0.90   (missing 49/472)\n"
     ]
    }
   ],
   "source": [
    "print('events: ')\n",
    "print(f'{data.sum()}/{len(data)} = {data.sum()/len(data): .02f}   (missing {len(data)-data.sum()}/{len(data)})')"
   ]
  },
  {
   "cell_type": "code",
   "execution_count": null,
   "id": "2b19e45d-113c-4e56-9e73-0faf7d481581",
   "metadata": {},
   "outputs": [],
   "source": []
  },
  {
   "cell_type": "code",
   "execution_count": null,
   "id": "6c1ecffb-211a-4338-ac05-016959d993de",
   "metadata": {},
   "outputs": [],
   "source": []
  },
  {
   "cell_type": "code",
   "execution_count": null,
   "id": "3bdc0582-dd72-4bad-9e56-c453075ddc8f",
   "metadata": {},
   "outputs": [],
   "source": []
  },
  {
   "cell_type": "code",
   "execution_count": null,
   "id": "0354645f-4ec9-433d-bd7e-3aa003b6ec93",
   "metadata": {},
   "outputs": [],
   "source": []
  },
  {
   "cell_type": "code",
   "execution_count": null,
   "id": "206ffccc-639a-4423-a57c-3b6f00a6d45f",
   "metadata": {},
   "outputs": [],
   "source": []
  },
  {
   "cell_type": "code",
   "execution_count": 538,
   "id": "cb278831-f121-4b4e-b819-fa836c17c681",
   "metadata": {},
   "outputs": [
    {
     "name": "stdout",
     "output_type": "stream",
     "text": [
      "torch.Size([670])\n"
     ]
    }
   ],
   "source": [
    "x = torch.from_numpy(data['x'][2][:, 0, 1])\n",
    "print(x.shape)\n",
    "v = x.diff(dim=0)\n",
    "a = v.diff(dim=0)"
   ]
  },
  {
   "cell_type": "code",
   "execution_count": 539,
   "id": "b949b6c6-62e0-4a2d-ae8d-b6ec16c04784",
   "metadata": {},
   "outputs": [
    {
     "data": {
      "image/png": "[encoded data removed]",
      "text/plain": [
       "<Figure size 1440x432 with 3 Axes>"
      ]
     },
     "metadata": {
      "needs_background": "light"
     },
     "output_type": "display_data"
    }
   ],
   "source": [
    "plt.figure(figsize=(20, 6))\n",
    "plt.subplot(311)\n",
    "plt.plot(x)\n",
    "plt.subplot(312)\n",
    "plt.plot(v)\n",
    "plt.subplot(313)\n",
    "plt.plot(a)\n",
    "plt.show()"
   ]
  },
  {
   "cell_type": "code",
   "execution_count": 544,
   "id": "909add36-8eb6-4e8a-a32f-648702f42fe1",
   "metadata": {},
   "outputs": [
    {
     "data": {
      "application/vnd.jupyter.widget-view+json": {
       "model_id": "e0bae269abdc4e688b847dd9bcc79fcb",
       "version_major": 2,
       "version_minor": 0
      },
      "text/plain": [
       "  0%|          | 0/50000 [00:00<?, ?it/s]"
      ]
     },
     "metadata": {},
     "output_type": "display_data"
    },
    {
     "name": "stdout",
     "output_type": "stream",
     "text": [
      "18181.16595370707\n",
      "87.21107483586003\n",
      "38.35930777125091\n",
      "26.37633419516249\n",
      "22.27540129745087\n",
      "19.95570922206078\n",
      "18.127239819102865\n",
      "16.45924835953381\n",
      "14.867745246876495\n",
      "13.347058632226563\n",
      "11.897170276731693\n",
      "10.503989273545006\n",
      "9.152751496863152\n",
      "7.846964248768396\n",
      "6.613999713370395\n",
      "5.5635684993926455\n",
      "4.8093185056401175\n",
      "6.822013517330227\n",
      "3.8441689394821212\n",
      "3.5288866843203572\n",
      "3.2833826684787097\n",
      "3.0840887427078854\n",
      "2.9253763586661745\n",
      "2.7843294205552107\n",
      "2.6686172039278\n",
      "2.646358567004148\n",
      "2.478193755336459\n",
      "2.3978471716075576\n",
      "2.4218878726265562\n",
      "2.257729716926999\n",
      "2.1960161402392506\n",
      "2.1382825866997783\n",
      "2.08453016224768\n",
      "2.0470963427902293\n",
      "1.9851550622656406\n",
      "1.9393216254772903\n",
      "1.8959636064657137\n",
      "1.854258443239675\n",
      "1.8148530678919412\n",
      "1.7923380938694127\n",
      "1.74110044832475\n",
      "1.7057338187584279\n",
      "1.6723961163684296\n",
      "1.6417138715795894\n",
      "1.6097265372290805\n",
      "1.5804309773906922\n",
      "1.5519102710410182\n",
      "1.5245497291023686\n",
      "1.4982132249452838\n",
      "1.507769342983358\n",
      "1.4484125662352356\n",
      "1.42476611545735\n",
      "1.401878225398643\n",
      "1.3799294241864315\n",
      "1.358760356895996\n",
      "1.3384058910055583\n",
      "1.441096982772801\n",
      "1.2990916866125788\n",
      "1.2805287289884248\n",
      "1.262548940581686\n",
      "1.295510263773075\n",
      "1.2283382407056662\n",
      "1.2120173022139322\n",
      "1.2289659254233485\n",
      "1.1808071487972307\n",
      "1.1660350231453236\n",
      "1.1516488540802694\n",
      "1.1408399614048135\n",
      "1.1240558851189502\n",
      "1.110987357924334\n",
      "1.1045768206166726\n",
      "1.0856272731117882\n",
      "1.0735971131450073\n",
      "1.0683763560556958\n",
      "1.1035475816712113\n",
      "1.0393000378670778\n",
      "1.0284834750365475\n",
      "1.0202832723748683\n",
      "1.0077130399154752\n",
      "0.9976997887014766\n",
      "0.9880015679581682\n",
      "3.452716077763056\n",
      "0.9692382252284175\n",
      "0.9602760177103558\n",
      "0.9514727985693281\n",
      "0.9429143402529937\n",
      "0.9346204007341474\n",
      "0.9280462530310135\n",
      "1.349239764226825\n",
      "0.9106272141127097\n",
      "0.9030483326139703\n",
      "0.8956097226700505\n",
      "0.8884148970528137\n",
      "1.0000076296376026\n",
      "0.8743294665574933\n",
      "0.8675823586826249\n",
      "0.8986001156016098\n",
      "0.8544138995372591\n",
      "0.8481069285569345\n",
      "0.8512154427371269\n"
     ]
    }
   ],
   "source": [
    "# ap = (a/2.).clone().float().requires_grad_()\n",
    "ap = torch.zeros_like(a).float().requires_grad_()\n",
    "\n",
    "opt = torch.optim.Adam([ap], lr=1e-4)\n",
    "reg = 0e0\n",
    "\n",
    "for i in tqdm(range(50000)):\n",
    "    vp = torch.cat([v[[0]], v[0]+ap.cumsum(dim=0)], dim=0)\n",
    "    xp = torch.cat([x[[0]], x[0]+vp.cumsum(dim=0)], dim=0)\n",
    "    \n",
    "    loss = (xp-x).pow(2).mean() + reg*ap.diff().pow(2).mean()\n",
    "    # loss = (xp-x).pow(2).mean() + reg*ap.diff().abs().mean()\n",
    "    \n",
    "    if i%500==0:\n",
    "        print(loss.item())\n",
    "    \n",
    "    opt.zero_grad()\n",
    "    loss.backward()\n",
    "    opt.step()\n"
   ]
  },
  {
   "cell_type": "code",
   "execution_count": 545,
   "id": "642cb80a-ed59-4dad-bfea-ccecaa4178b0",
   "metadata": {},
   "outputs": [
    {
     "data": {
      "image/png": "[encoded data removed]",
      "text/plain": [
       "<Figure size 1440x432 with 3 Axes>"
      ]
     },
     "metadata": {
      "needs_background": "light"
     },
     "output_type": "display_data"
    }
   ],
   "source": [
    "plt.figure(figsize=(20, 6))\n",
    "plt.subplot(311)\n",
    "plt.plot(x)\n",
    "plt.plot(xp.detach().cpu().numpy())\n",
    "plt.subplot(312)\n",
    "plt.plot(v)\n",
    "plt.plot(vp.detach().cpu().numpy())\n",
    "plt.subplot(313)\n",
    "plt.plot(a)\n",
    "plt.plot(ap.detach().cpu().numpy())\n",
    "plt.show()"
   ]
  },
  {
   "cell_type": "code",
   "execution_count": null,
   "id": "47fecdcf-944b-4135-a44d-f2e8ade45307",
   "metadata": {},
   "outputs": [],
   "source": []
  },
  {
   "cell_type": "code",
   "execution_count": null,
   "id": "6f17edcd-355a-4e2a-ba19-6b0eaf5fd666",
   "metadata": {},
   "outputs": [],
   "source": []
  },
  {
   "cell_type": "code",
   "execution_count": null,
   "id": "068a3ff0-ee80-47a8-ac62-0082ff2c16ba",
   "metadata": {},
   "outputs": [],
   "source": []
  },
  {
   "cell_type": "code",
   "execution_count": 546,
   "id": "3fbe2a31-47e2-4b57-b1c0-0ce653596f8c",
   "metadata": {},
   "outputs": [
    {
     "data": {
      "text/plain": [
       "[<matplotlib.lines.Line2D at 0x2b8eb0865d00>]"
      ]
     },
     "execution_count": 546,
     "metadata": {},
     "output_type": "execute_result"
    },
    {
     "data": {
      "image/png": "[encoded data removed]",
      "text/plain": [
       "<Figure size 1440x720 with 1 Axes>"
      ]
     },
     "metadata": {
      "needs_background": "light"
     },
     "output_type": "display_data"
    }
   ],
   "source": [
    "plt.figure(figsize=(20, 10))\n",
    "plt.plot(x)\n",
    "plt.plot(xp.detach().cpu().numpy())"
   ]
  },
  {
   "cell_type": "code",
   "execution_count": 547,
   "id": "115674a3-e783-4088-a399-c5c2ca08aa44",
   "metadata": {},
   "outputs": [
    {
     "data": {
      "text/plain": [
       "tensor(4.6056, dtype=torch.float64, grad_fn=<MaxBackward1>)"
      ]
     },
     "execution_count": 547,
     "metadata": {},
     "output_type": "execute_result"
    }
   ],
   "source": [
    "(x-xp).abs().max()"
   ]
  },
  {
   "cell_type": "code",
   "execution_count": null,
   "id": "b2cea1ca-b2b6-4fc3-a860-a1b41a26dec2",
   "metadata": {},
   "outputs": [],
   "source": []
  },
  {
   "cell_type": "code",
   "execution_count": null,
   "id": "0aaf6148-6f8c-4866-9b91-8b0b5eea4193",
   "metadata": {},
   "outputs": [],
   "source": []
  }
 ],
 "metadata": {
  "kernelspec": {
   "display_name": "Python 3 (ipykernel)",
   "language": "python",
   "name": "python3"
  },
  "language_info": {
   "codemirror_mode": {
    "name": "ipython",
    "version": 3
   },
   "file_extension": ".py",
   "mimetype": "text/x-python",
   "name": "python",
   "nbconvert_exporter": "python",
   "pygments_lexer": "ipython3",
   "version": "3.9.5"
  }
 },
 "nbformat": 4,
 "nbformat_minor": 5
}
