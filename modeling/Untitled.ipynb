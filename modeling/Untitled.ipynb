{
 "cells": [
  {
   "cell_type": "code",
   "execution_count": 1,
   "id": "6cfd718b-c405-4f65-afbc-0ffef1b40197",
   "metadata": {},
   "outputs": [
    {
     "name": "stdout",
     "output_type": "stream",
     "text": [
      "Using device cuda\n"
     ]
    }
   ],
   "source": [
    "%run imports_notebook.py"
   ]
  },
  {
   "cell_type": "code",
   "execution_count": null,
   "id": "b3072f6d-f97f-4bfe-a4c3-6ffe25ba8058",
   "metadata": {},
   "outputs": [],
   "source": []
  },
  {
   "cell_type": "code",
   "execution_count": 38,
   "id": "2fa92792-a8b5-44bd-a628-a40c7e40cc12",
   "metadata": {},
   "outputs": [],
   "source": [
    "torch.manual_seed(4)\n",
    "net = nn.Sequential(nn.Linear(1, 10), nn.GELU(), nn.Linear(10, 10), nn.GELU(), nn.Linear(10, 1))"
   ]
  },
  {
   "cell_type": "code",
   "execution_count": 39,
   "id": "ef2e2f50-48ae-4a99-b2fd-2a08c47ae0c5",
   "metadata": {},
   "outputs": [],
   "source": [
    "x = torch.linspace(-10, 10, 1000)[:, None]\n",
    "y = net(x)"
   ]
  },
  {
   "cell_type": "code",
   "execution_count": 40,
   "id": "d02929a0-3381-44c6-84a3-05b43576b476",
   "metadata": {},
   "outputs": [
    {
     "data": {
      "text/plain": [
       "[<matplotlib.lines.Line2D at 0x2b2dda382670>]"
      ]
     },
     "execution_count": 40,
     "metadata": {},
     "output_type": "execute_result"
    },
    {
     "data": {
      "image/png": "[encoded data removed]",
      "text/plain": [
       "<Figure size 432x288 with 1 Axes>"
      ]
     },
     "metadata": {
      "needs_background": "light"
     },
     "output_type": "display_data"
    }
   ],
   "source": [
    "plt.plot(x[:, 0], y[:, 0].detach())"
   ]
  },
  {
   "cell_type": "code",
   "execution_count": 79,
   "id": "2f10e332-faba-4805-9f23-2a04d884935e",
   "metadata": {},
   "outputs": [
    {
     "data": {
      "image/png": "[encoded data removed]",
      "text/plain": [
       "<Figure size 432x288 with 1 Axes>"
      ]
     },
     "metadata": {
      "needs_background": "light"
     },
     "output_type": "display_data"
    }
   ],
   "source": [
    "torch.manual_seed(0)\n",
    "o = torch.rand(10000)*20-10\n",
    "o.requires_grad_()\n",
    "\n",
    "opt = torch.optim.Adam([o], lr=1e-1)\n",
    "\n",
    "for _ in range(10):\n",
    "    o.data.clip_(-10, 10)\n",
    "    yo = net(o[:, None])\n",
    "    loss = -yo.mean()\n",
    "    \n",
    "    opt.zero_grad()\n",
    "    loss.backward()\n",
    "    opt.step()\n",
    "\n",
    "plt.hist(o.detach().numpy(), bins=100);"
   ]
  },
  {
   "cell_type": "code",
   "execution_count": null,
   "id": "e7808b99-3649-432a-b36e-e2299a766152",
   "metadata": {},
   "outputs": [],
   "source": []
  },
  {
   "cell_type": "code",
   "execution_count": null,
   "id": "d4be9b40-bab8-4133-adbf-9ba042731b09",
   "metadata": {},
   "outputs": [],
   "source": []
  },
  {
   "cell_type": "code",
   "execution_count": null,
   "id": "17b901e1-5415-4f4e-96a1-a49cbc81184e",
   "metadata": {},
   "outputs": [],
   "source": [
    "seed = 0\n",
    "\n",
    "use_wandb = False\n",
    "\n",
    "batch_size = 128\n",
    "load_factor = 100\n",
    "np.random.seed(seed); torch.manual_seed(seed)\n",
    "\n",
    "dcs = None\n",
    "dcs = discrete_prob.DiscretizeContinuousSpace(np.full(3, fill_value=-1, dtype=float),\n",
    "                                              np.full(3, fill_value=+1, dtype=float),\n",
    "                                              [21, 21, 1])\n",
    "predict_acceleration = False\n",
    "if predict_acceleration:\n",
    "    bounds = torch.tensor([30000] + [7000]*10)[:, None]\n",
    "else:\n",
    "    bounds = torch.tensor([constants.max_speed_ball] + [constants.max_speed_human]*10)[:, None]\n",
    "\n",
    "n_bins_total = None if dcs is None else np.prod(dcs.n_bins)\n",
    "bin_count = torch.zeros(n_bins_total).to(device)\n",
    "\n",
    "# net = agent.ModelNet(mbd, n_outputs=(3 if dcs is None else n_bins_total),\n",
    "#                      n_embed=210, n_heads=5, mlp_dim=400, n_layers=5).to(device)\n",
    "net = agent.ModelNet(mbd, n_outputs=(3 if dcs is None else n_bins_total),\n",
    "                     n_embed=750, n_heads=10, mlp_dim=1000, n_layers=8).to(device)\n",
    "loss_cross_entropy = nn.CrossEntropyLoss()\n",
    "\n",
    "print('# of Model Parameters: ', np.sum([p.numel() for p in net.parameters()]))\n",
    "# for p in net.parameters():\n",
    "    # p.data.uniform_(-1e-3, 1e-3)\n",
    "\n",
    "opt = torch.optim.Adam(net.parameters(), lr=1e-3)\n",
    "\n",
    "if use_wandb: wandb.init()\n",
    "\n",
    "losses = []\n",
    "pbar = tqdm(range(50))\n",
    "for idx_epoch in pbar:\n",
    "    for idx_batch, batch in enumerate(data.data_loader(batch_size=batch_size, load_factor=load_factor, tqdm=tqdm)):\n",
    "        \n",
    "        x = batch['x'].float().to(device)\n",
    "        v = batch['v'].float().to(device)\n",
    "        id_team = batch['id_team'].to(device)\n",
    "        id_player = batch['id_player'].to(device)\n",
    "        \n",
    "        y_batch_pred = net.forward(x, v=v, id_team=id_team, id_player=id_player)\n",
    "        \n",
    "        if dcs is None:\n",
    "            y = batch['nv'].to(device)\n",
    "            loss = (y_batch_pred-y).pow(2.).mean()\n",
    "        else:\n",
    "            current = batch['a' if predict_acceleration else 'v']\n",
    "            nextt = batch['na' if predict_acceleration else 'nv']\n",
    "            y = dcs.vec2bin_torch(nextt/bounds).to(device) # gpu->cpu not needed\n",
    "            py = dcs.vec2bin_torch(current/bounds).to(device) # gpu->cpu not needed\n",
    "            \n",
    "            bin_count[y.reshape(-1)] = bin_count[y.reshape(-1)] + 1\n",
    "            \n",
    "            loss = loss_cross_entropy(y_batch_pred.reshape(-1, n_bins_total), y.reshape(-1))\n",
    "            ploss = loss_cross_entropy(y_batch_pred.reshape(-1, n_bins_total), py.reshape(-1))\n",
    "            \n",
    "            categorical = torch.distributions.Categorical(logits=y_batch_pred)\n",
    "            entropy = categorical.entropy().detach().cpu().flatten().numpy()\n",
    "            \n",
    "            if use_wandb: wandb.log({'entropy': wandb.Histogram(entropy)}, commit=False)\n",
    "            if use_wandb: wandb.log({'ploss': ploss.item()}, commit=False)\n",
    "            \n",
    "        opt.zero_grad()\n",
    "        loss.backward()\n",
    "        opt.step()\n",
    "        \n",
    "        losses.append(loss.item())\n",
    "\n",
    "        pbar.set_postfix({'loss': loss.item()})\n",
    "        \n",
    "        if use_wandb: wandb.log({'loss': loss.item()})\n"
   ]
  },
  {
   "cell_type": "code",
   "execution_count": null,
   "id": "9cec8905-62ce-4e91-9a8d-b1698f7b5b86",
   "metadata": {},
   "outputs": [],
   "source": []
  },
  {
   "cell_type": "code",
   "execution_count": null,
   "id": "36fb6ac8-9933-4f2b-9138-758f43a65926",
   "metadata": {},
   "outputs": [],
   "source": []
  }
 ],
 "metadata": {
  "kernelspec": {
   "display_name": "Python 3 (ipykernel)",
   "language": "python",
   "name": "python3"
  },
  "language_info": {
   "codemirror_mode": {
    "name": "ipython",
    "version": 3
   },
   "file_extension": ".py",
   "mimetype": "text/x-python",
   "name": "python",
   "nbconvert_exporter": "python",
   "pygments_lexer": "ipython3",
   "version": "3.9.5"
  }
 },
 "nbformat": 4,
 "nbformat_minor": 5
}
